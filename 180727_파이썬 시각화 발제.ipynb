{
 "cells": [
  {
   "cell_type": "markdown",
   "metadata": {},
   "source": [
    "# **파이썬 시각화 발제**\n",
    "\n",
    "made by 10기 성준현\n",
    "\n",
    "### 다룰 내용\n",
    "### 1. matplotlib\n",
    "### 2. seaborn\n",
    "### 3. plotly 등 기타 패키지\n",
    "### 4. R ggplot2를 이용한 파이썬 시각화"
   ]
  },
  {
   "cell_type": "markdown",
   "metadata": {},
   "source": [
    "---\n",
    "matplotlib과 seaborn 패키지는 파이썬에서 데이터를 시각화 할 때 반드시 알아야 합니다. 따라서 인터넷이나 책에서도 관련 정보를 쉽게 구할 수 있고, 문법 공부를 열심히 하여 숙달하는 것 외에는 도리가 없습니다. 따라서 간단히 다음의 주소를 첨부하는 것으로 마무리 하겠습니다. R과 마찬가지로 코드를 따라하면서 다양한 plot들을 그려보도록 하세요. "
   ]
  },
  {
   "cell_type": "markdown",
   "metadata": {},
   "source": [
    "## Ref:\n",
    "###    Matplotlib 패키지 : https://datascienceschool.net/view-notebook/d0b1637803754bb083b5722c9f2209d0/\n",
    "###    Seaborn 패키지 : https://datascienceschool.net/view-notebook/4c2d5ff1caab4b21a708cc662137bc65/    "
   ]
  },
  {
   "cell_type": "markdown",
   "metadata": {},
   "source": [
    "---\n",
    "시각화를 위한 패키지의 종류는 생각보다 매우 다양합니다. \n",
    "\n",
    "Bokeh(http://bokeh.pydata.org/en/latest)는 매우 큰 스트리밍 데이터셋을 처리할 수 있는 고도의 대화식 시가화를 생성하는 파이썬 프런트엔드가 탑재된 자바스크립트 시각화 라이브러리입니다. 파이썬 프런트엔드는 Bokeh JS 엔진이 해석할 수 있는 JSON 자료구조를 만들어냅니다.\n",
    "\n",
    "Vispy(http://vispy.org)는 매우 큰 데이터셋을 동적으로 시각화하는 것에 중점을 두고 활발하게 개발한 프로젝트입니다. 이것은 OpenGL을 목표로 만들어졌고 사용자 컴퓨터의 효율적인 그래픽 프로세서를 사용하기 때문에 매우 크고 훌륭한 시각화를 렌더링할 수 있습니다.\n",
    "\n",
    "Vega(https://vega.github.io)와 Vega-Lite(https://vega.github.io/vega-lite/)는 선언적 그래픽 표현 방식으로, 데이터 시각화의 기본 언어에 대해 수년간 연구한 결과물입니다. 참조 렌더링 구현체는 자바스크립트로 구현됐지만 API는 언어에 구속받지 않습니다. Altair 패키지(https://altair-viz.github.io)에는 개발 중인 파이썬 API가 있으며 아직 성숙 단계에 들어서지는 못했지만 파이썬과 다른 언어에서의 시각화를 위한 일반적인 기준점을 제공할 가능성이 있어 매우 기대됩니다.\n",
    "\n",
    "Plotly(https://plotly.ly)는 Plotly 사의 동명의 오픈소스 제품으로, Bokeh와 사상적으로 유사합니다. Plotly는 스타트업의 주 제품이라서 개발 노력을 상당한 수준으로 들이고 있습니다. 이 라이브러리는 완전히 무료로 사용할 수 있습니다.\n",
    "\n",
    "**여기서 주목할 점은 plotly가 R과 Python 모두에서 같은 문법으로 구현 가능하다는 것입니다. R 시각화에서도 plotly는 강력한 패키지입니다. 그러나 후술하겠지만 필자는 ggplot2를 선호하며 이를 파이썬에서 구현하는 방식에 더 관심이 많습니다.**"
   ]
  },
  {
   "cell_type": "markdown",
   "metadata": {},
   "source": [
    "---\n",
    "ggplot2를 이야기하기에 앞서 다음의 글을 한 번 읽어봅시다:\n",
    "https://pabii.co/r-python-rpy2-1/\n",
    "사람마다 입장 차이가 있으니 잘 판단하시길 바랍니다."
   ]
  },
  {
   "cell_type": "markdown",
   "metadata": {},
   "source": [
    "---\n",
    "ggplot2는 해들리 위컴이 개발한 R의 패키지 중 하나로 데이터 시각화에 있어 가장 강력한 툴이라고 필자는 생각합니다. 파이썬에서 사용가능한 패키지들은 물론 데이터 시각화의 대표주자 중 하나인 Tableau 역시 ggplot2에 영향을 받고 있습니다. ggplot2의 사용법 등에 관해서는 Chankoo의 Github을 참고하시고, 이 역시 열심히 숙달하는 것 밖에는 방법이 없습니다.\n",
    "\n",
    "파이썬에서까지 ggplot2를 가져와서 사용해야 하는지에 대해서는 의견이 갈릴 것 같습니다. 밑에서는 간단히 r과 python을 jupyter notebook에서 연동시키는 법에 대해서만 언급하겠습니다.\n",
    "\n",
    "시각화에서는 각자 원하는 방식을 채택하시면 될 것 같습니다.\n",
    "\n",
    "밑의 내용은 https://www.datacamp.com/community/blog/jupyter-notebook-r#gs.z0gxLNc 을 간단히 옮긴 것에 불과합니다."
   ]
  },
  {
   "cell_type": "markdown",
   "metadata": {},
   "source": [
    "---\n",
    "jupyter에서 python 외에 r을 사용할 수 있습니다. 이를 위해서는 다음의 코드를 R에서 (RStudio에서 하시면 안됩니다!) 돌려주세요.\n",
    "\n",
    "```install.packages(c('repr', 'IRdisplay', 'evaluate', 'crayon', 'pbdZMQ', 'devtools', 'uuid', 'digest'))``` <br/>\n",
    "```devtools::install_github('IRkernel/IRkernel')``` <br/>\n",
    "```IRkernel::installspec()``` (현재 사용자) 또는  <br/>\n",
    "```IRkernel::installspec(user = FALSE)``` (전체 사용자) <br/>"
   ]
  },
  {
   "cell_type": "markdown",
   "metadata": {},
   "source": [
    "이제 jupyter notebook에서 커널을 R로 설정할 수 있습니다."
   ]
  },
  {
   "cell_type": "markdown",
   "metadata": {},
   "source": [
    "---\n",
    "다음으로 jupyter notebook python에서 R 코드를 실행시키는 방법입니다.\n",
    "\n",
    "Anaconda Prompt에서 <br/>\n",
    "```conda install -c r r-essentials``` 를 실행해주세요. <br/>\n",
    "파이썬에서 구현될 R의 패키지들을 가져오는 것입니다."
   ]
  },
  {
   "cell_type": "markdown",
   "metadata": {},
   "source": [
    "아래의 코드를 돌려보는 것으로 간단히 마무리하겠습니다. 감사합니다."
   ]
  },
  {
   "cell_type": "code",
   "execution_count": 1,
   "metadata": {},
   "outputs": [],
   "source": [
    "%load_ext rpy2.ipython"
   ]
  },
  {
   "cell_type": "code",
   "execution_count": 2,
   "metadata": {},
   "outputs": [
    {
     "data": {
      "text/plain": [
       "array([1], dtype=int32)"
      ]
     },
     "execution_count": 2,
     "metadata": {},
     "output_type": "execute_result"
    }
   ],
   "source": [
    "%R require(ggplot2)"
   ]
  },
  {
   "cell_type": "code",
   "execution_count": 3,
   "metadata": {},
   "outputs": [],
   "source": [
    "import pandas as pd"
   ]
  },
  {
   "cell_type": "code",
   "execution_count": 4,
   "metadata": {},
   "outputs": [],
   "source": [
    "df = pd.DataFrame({'Letter':['a','a','a','b','b','b','c','c','c'],\n",
    "                  'X':[4,3,5,2,1,7,7,5,9],\n",
    "                  'Y':[0,4,3,6,7,10,11,9,13],\n",
    "                  'Z':[1,2,3,1,2,3,1,2,3]})"
   ]
  },
  {
   "cell_type": "code",
   "execution_count": 6,
   "metadata": {},
   "outputs": [
    {
     "data": {
      "image/png": "[encoded data removed]"
     },
     "metadata": {},
     "output_type": "display_data"
    }
   ],
   "source": [
    "%%R -i df\n",
    "ggplot(data=df) + geom_point(aes(x=X, y=Y, color = Letter, size=Z))\n",
    "# 위의 코드는 R에서 사용하는 ggplot2의 코드를 그대로 적은 것입니다. Kernel을 Python으로 설정했음에도 R 코드가 돌아가는 것을 확인할 수 있습니다."
   ]
  }
 ],
 "metadata": {
  "kernelspec": {
   "display_name": "Python 3",
   "language": "python",
   "name": "python3"
  },
  "language_info": {
   "codemirror_mode": {
    "name": "ipython",
    "version": 3
   },
   "file_extension": ".py",
   "mimetype": "text/x-python",
   "name": "python",
   "nbconvert_exporter": "python",
   "pygments_lexer": "ipython3",
   "version": "3.6.4"
  }
 },
 "nbformat": 4,
 "nbformat_minor": 2
}
