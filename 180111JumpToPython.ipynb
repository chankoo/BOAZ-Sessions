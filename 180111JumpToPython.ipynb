{
 "cells": [
  {
   "cell_type": "markdown",
   "metadata": {},
   "source": [
    "# 자료형\n",
    "## 1. 숫자형\n",
    "\n",
    "숫자형은 말 그대로 우리가 알고있는 숫자형임."
   ]
  },
  {
   "cell_type": "code",
   "execution_count": 1,
   "metadata": {
    "collapsed": true
   },
   "outputs": [],
   "source": [
    "a = 2\n",
    "b = 3\n",
    "c = 2.4\n",
    "d = 4.4"
   ]
  },
  {
   "cell_type": "code",
   "execution_count": 2,
   "metadata": {},
   "outputs": [
    {
     "name": "stdout",
     "output_type": "stream",
     "text": [
      "a+b =  5\n",
      "a+b의 자료형은 <class 'int'>\n"
     ]
    }
   ],
   "source": [
    "print('a+b = ',a+b)\n",
    "print('a+b의 자료형은', type(a+b))"
   ]
  },
  {
   "cell_type": "code",
   "execution_count": 3,
   "metadata": {},
   "outputs": [
    {
     "data": {
      "text/plain": [
       "0.6000000000000001"
      ]
     },
     "execution_count": 3,
     "metadata": {},
     "output_type": "execute_result"
    }
   ],
   "source": [
    "b-c"
   ]
  },
  {
   "cell_type": "code",
   "execution_count": 4,
   "metadata": {
    "scrolled": true
   },
   "outputs": [
    {
     "data": {
      "text/plain": [
       "float"
      ]
     },
     "execution_count": 4,
     "metadata": {},
     "output_type": "execute_result"
    }
   ],
   "source": [
    "type(b-c)"
   ]
  },
  {
   "cell_type": "code",
   "execution_count": 5,
   "metadata": {},
   "outputs": [
    {
     "data": {
      "text/plain": [
       "1.5"
      ]
     },
     "execution_count": 5,
     "metadata": {},
     "output_type": "execute_result"
    }
   ],
   "source": [
    "b/a"
   ]
  },
  {
   "cell_type": "code",
   "execution_count": 6,
   "metadata": {},
   "outputs": [
    {
     "data": {
      "text/plain": [
       "8"
      ]
     },
     "execution_count": 6,
     "metadata": {},
     "output_type": "execute_result"
    }
   ],
   "source": [
    "a**b"
   ]
  },
  {
   "cell_type": "code",
   "execution_count": 7,
   "metadata": {},
   "outputs": [
    {
     "data": {
      "text/plain": [
       "1"
      ]
     },
     "execution_count": 7,
     "metadata": {},
     "output_type": "execute_result"
    }
   ],
   "source": [
    "b%a"
   ]
  },
  {
   "cell_type": "code",
   "execution_count": 27,
   "metadata": {},
   "outputs": [
    {
     "data": {
      "text/plain": [
       "0.40000000000000036"
      ]
     },
     "execution_count": 27,
     "metadata": {},
     "output_type": "execute_result"
    }
   ],
   "source": [
    "d%a"
   ]
  },
  {
   "cell_type": "code",
   "execution_count": 29,
   "metadata": {},
   "outputs": [
    {
     "data": {
      "text/plain": [
       "2.0"
      ]
     },
     "execution_count": 29,
     "metadata": {},
     "output_type": "execute_result"
    }
   ],
   "source": [
    "d//a"
   ]
  },
  {
   "cell_type": "markdown",
   "metadata": {},
   "source": [
    "## 2. 문자형"
   ]
  },
  {
   "cell_type": "code",
   "execution_count": 13,
   "metadata": {
    "collapsed": true
   },
   "outputs": [],
   "source": [
    "c1 = \"B'oa'z\"\n",
    "c2 = 'b\"Oa\"z'\n",
    "c3 = \"\"\"b'\n",
    "o'\n",
    "A'\n",
    "z'\"\"\"\n",
    "c4 = '''b\n",
    "o\"\n",
    "a\"\n",
    "Z\"'''"
   ]
  },
  {
   "cell_type": "code",
   "execution_count": 14,
   "metadata": {},
   "outputs": [
    {
     "data": {
      "text/plain": [
       "\"B'oa'z\""
      ]
     },
     "execution_count": 14,
     "metadata": {},
     "output_type": "execute_result"
    }
   ],
   "source": [
    "c1"
   ]
  },
  {
   "cell_type": "code",
   "execution_count": 15,
   "metadata": {},
   "outputs": [
    {
     "data": {
      "text/plain": [
       "'b\"Oa\"z'"
      ]
     },
     "execution_count": 15,
     "metadata": {},
     "output_type": "execute_result"
    }
   ],
   "source": [
    "c2"
   ]
  },
  {
   "cell_type": "code",
   "execution_count": 16,
   "metadata": {},
   "outputs": [
    {
     "data": {
      "text/plain": [
       "\"b'\\no'\\nA'\\nz'\""
      ]
     },
     "execution_count": 16,
     "metadata": {},
     "output_type": "execute_result"
    }
   ],
   "source": [
    "c3"
   ]
  },
  {
   "cell_type": "code",
   "execution_count": 17,
   "metadata": {},
   "outputs": [
    {
     "data": {
      "text/plain": [
       "'b\\no\"\\na\"\\nZ\"'"
      ]
     },
     "execution_count": 17,
     "metadata": {},
     "output_type": "execute_result"
    }
   ],
   "source": [
    "c4"
   ]
  },
  {
   "cell_type": "markdown",
   "metadata": {},
   "source": [
    "- \\n    ->  줄바꿈\n",
    "- \\t    ->  수평탭\n",
    "- \\000 -> Null문자\n",
    "- \\\\   ->   \"\\\"\n",
    "- \\'   ->   인용부호\n",
    "- \\\"   ->   인용부호"
   ]
  },
  {
   "cell_type": "code",
   "execution_count": 18,
   "metadata": {
    "collapsed": true
   },
   "outputs": [],
   "source": [
    "c1 = \"Boaz\"\n",
    "c2 = 'bOaz'\n",
    "c3 = \"\"\"b\n",
    "o\n",
    "A\n",
    "z\"\"\"\n",
    "c4 = '''b\n",
    "o\n",
    "a\n",
    "Z'''"
   ]
  },
  {
   "cell_type": "code",
   "execution_count": 19,
   "metadata": {},
   "outputs": [
    {
     "data": {
      "text/plain": [
       "'BoazbOaz'"
      ]
     },
     "execution_count": 19,
     "metadata": {},
     "output_type": "execute_result"
    }
   ],
   "source": [
    "c1 + c2"
   ]
  },
  {
   "cell_type": "code",
   "execution_count": 20,
   "metadata": {},
   "outputs": [
    {
     "data": {
      "text/plain": [
       "'BoazBoaz'"
      ]
     },
     "execution_count": 20,
     "metadata": {},
     "output_type": "execute_result"
    }
   ],
   "source": [
    "c1*2"
   ]
  },
  {
   "cell_type": "code",
   "execution_count": 21,
   "metadata": {},
   "outputs": [
    {
     "data": {
      "text/plain": [
       "'b\\no\\nA\\nz'"
      ]
     },
     "execution_count": 21,
     "metadata": {},
     "output_type": "execute_result"
    }
   ],
   "source": [
    "c3"
   ]
  },
  {
   "cell_type": "code",
   "execution_count": 22,
   "metadata": {},
   "outputs": [
    {
     "name": "stdout",
     "output_type": "stream",
     "text": [
      "B O A Z\n"
     ]
    }
   ],
   "source": [
    "print(c1[0],c2[1],c3[4],c4[6])"
   ]
  },
  {
   "cell_type": "code",
   "execution_count": 23,
   "metadata": {},
   "outputs": [
    {
     "name": "stdout",
     "output_type": "stream",
     "text": [
      "B O A Z\n"
     ]
    }
   ],
   "source": [
    "print(c1[-4],c2[-3],c3[-3],c4[-1])"
   ]
  },
  {
   "cell_type": "code",
   "execution_count": 24,
   "metadata": {
    "collapsed": true
   },
   "outputs": [],
   "source": [
    "joa = '''이제 괜찮니 너무 힘들었다며\n",
    "너의 그 마무리가\n",
    "고작 이별뿐일 거라\n",
    "우린 괜찮다면서\n",
    "\n",
    "잘 지낸다고 전해 들었지?\n",
    "내겐 정말 참 좋은 사람 만나\n",
    "잘 지내고 있어\n",
    "마냥 자상한 사람\n",
    "\n",
    "잘 됐어 우린 힘들었잖아\n",
    "서로 다름을 견뎌 내기엔\n",
    "\n",
    "좋아 사랑해서 사랑을 시작해서\n",
    "다신 눈물 흘리지 않을 거야\n",
    "그 기억은 아직도 힘들어\n",
    "헤어 나오지 못해\n",
    "니 소식 들린 날은 더\n",
    "좋아 참 그 사람\n",
    "한없이 날 이해해줘\n",
    "넌 날 몰라도 정말 몰라줬어\n",
    "내 아픔의 단 십 분의 일만이라도\n",
    "아프다 날 잊어줘'''"
   ]
  },
  {
   "cell_type": "code",
   "execution_count": 25,
   "metadata": {},
   "outputs": [
    {
     "name": "stdout",
     "output_type": "stream",
     "text": [
      "이제 괜찮니 너무 힘들었다며 \n",
      " 좋아 사랑해서 사랑을 시작해서\n"
     ]
    }
   ],
   "source": [
    "print(joa[0:15],'\\n',joa[128:144])"
   ]
  },
  {
   "cell_type": "markdown",
   "metadata": {},
   "source": [
    "## 문자열 포매팅"
   ]
  },
  {
   "cell_type": "code",
   "execution_count": 32,
   "metadata": {},
   "outputs": [
    {
     "name": "stdout",
     "output_type": "stream",
     "text": [
      "BOAZ 7th Conference 8 haha\n"
     ]
    }
   ],
   "source": [
    "'BOAZ %dth Conference' % 7\n",
    "print('BOAZ %dth Conference %d %s' % (7, 8,'haha'))"
   ]
  },
  {
   "cell_type": "markdown",
   "metadata": {},
   "source": [
    "- %s 문자열 (String)\n",
    "- %c 문자 한개(character)\n",
    "- %d 정수 (Integer)\n",
    "- %f 부동소수 (floating-point)\n",
    "- %o 8진수\n",
    "- %x 16진수\n",
    "- %% Literal % (문자 '%s' 자체)"
   ]
  },
  {
   "cell_type": "code",
   "execution_count": 42,
   "metadata": {},
   "outputs": [
    {
     "data": {
      "text/plain": [
       "'BOAZ 7th Conference 8 haha'"
      ]
     },
     "execution_count": 42,
     "metadata": {},
     "output_type": "execute_result"
    }
   ],
   "source": [
    "'BOAZ {0}th Conference {1} {str}'.format(7,8,1,str=\"haha\") # format 기억하기"
   ]
  },
  {
   "cell_type": "code",
   "execution_count": 87,
   "metadata": {},
   "outputs": [
    {
     "data": {
      "text/plain": [
       "'BOAZ 7th Conference'"
      ]
     },
     "execution_count": 87,
     "metadata": {},
     "output_type": "execute_result"
    }
   ],
   "source": [
    "'BOAZ {num}th Conference'.format(num = 7)"
   ]
  },
  {
   "cell_type": "code",
   "execution_count": 43,
   "metadata": {},
   "outputs": [
    {
     "data": {
      "text/plain": [
       "'하이용!'"
      ]
     },
     "execution_count": 43,
     "metadata": {},
     "output_type": "execute_result"
    }
   ],
   "source": [
    "'        하이용!        '.strip()"
   ]
  },
  {
   "cell_type": "code",
   "execution_count": 44,
   "metadata": {},
   "outputs": [
    {
     "data": {
      "text/plain": [
       "'바이용!'"
      ]
     },
     "execution_count": 44,
     "metadata": {},
     "output_type": "execute_result"
    }
   ],
   "source": [
    "'하이용!'.replace('하이','바이')"
   ]
  },
  {
   "cell_type": "code",
   "execution_count": 53,
   "metadata": {},
   "outputs": [
    {
     "name": "stdout",
     "output_type": "stream",
     "text": [
      "['인정? ', ' 인정~']\n",
      "인정?  인정~\n",
      "인정? 어 인정~\n"
     ]
    }
   ],
   "source": [
    "admit = '인정? 어 인정~'.split('어') #string to list\n",
    "# default는 ' ' 즉 공백!\n",
    "print(admit)\n",
    "reAdmit = \"\"\n",
    "reAdmit2 = \"어\"\n",
    "print(reAdmit.join(admit))\n",
    "print(reAdmit2.join(admit))"
   ]
  },
  {
   "cell_type": "markdown",
   "metadata": {},
   "source": [
    "## 리스트"
   ]
  },
  {
   "cell_type": "code",
   "execution_count": 28,
   "metadata": {
    "collapsed": true
   },
   "outputs": [],
   "source": [
    "Apink =['박초롱', '윤보미', '정은지', '손나은', '김남주', '오하영']\n",
    "Girlsday = ['소진','유라','민아','혜리']\n",
    "idols = [Apink,Girlsday]"
   ]
  },
  {
   "cell_type": "code",
   "execution_count": 29,
   "metadata": {},
   "outputs": [
    {
     "data": {
      "text/plain": [
       "'손나은'"
      ]
     },
     "execution_count": 29,
     "metadata": {},
     "output_type": "execute_result"
    }
   ],
   "source": [
    "Most_Favorite = Apink[3]\n",
    "Most_Favorite"
   ]
  },
  {
   "cell_type": "code",
   "execution_count": 30,
   "metadata": {},
   "outputs": [
    {
     "data": {
      "text/plain": [
       "'혜리'"
      ]
     },
     "execution_count": 30,
     "metadata": {},
     "output_type": "execute_result"
    }
   ],
   "source": [
    "Second_Favorite = idols[1][3]\n",
    "Second_Favorite"
   ]
  },
  {
   "cell_type": "code",
   "execution_count": 31,
   "metadata": {},
   "outputs": [
    {
     "name": "stdout",
     "output_type": "stream",
     "text": [
      "혜리는 응팔에서 참 귀여웠지\n"
     ]
    }
   ],
   "source": [
    "print(Second_Favorite+'는 응팔에서 참 귀여웠지',end='')"
   ]
  },
  {
   "cell_type": "code",
   "execution_count": 108,
   "metadata": {},
   "outputs": [
    {
     "data": {
      "text/plain": [
       "['박초롱', '윤보미', '정은지', '손나은', '김남주', '오하영', '소진', '유라', '민아', '혜리']"
      ]
     },
     "execution_count": 108,
     "metadata": {},
     "output_type": "execute_result"
    }
   ],
   "source": [
    "Honjong = Apink+Girlsday\n",
    "Honjong"
   ]
  },
  {
   "cell_type": "code",
   "execution_count": 32,
   "metadata": {
    "collapsed": true
   },
   "outputs": [],
   "source": [
    "Redvelvet = ['아이린','슬기','웬디','조이','예리']"
   ]
  },
  {
   "cell_type": "code",
   "execution_count": 33,
   "metadata": {},
   "outputs": [
    {
     "data": {
      "text/plain": [
       "[['박초롱', '윤보미', '정은지', '손나은', '김남주', '오하영'],\n",
       " ['소진', '유라', '민아', '혜리'],\n",
       " ['아이린', '슬기', '웬디', '조이', '예리']]"
      ]
     },
     "execution_count": 33,
     "metadata": {},
     "output_type": "execute_result"
    }
   ],
   "source": [
    "idols = [Apink,Girlsday]\n",
    "idols.append(Redvelvet)\n",
    "idols"
   ]
  },
  {
   "cell_type": "code",
   "execution_count": 34,
   "metadata": {},
   "outputs": [
    {
     "data": {
      "text/plain": [
       "0"
      ]
     },
     "execution_count": 34,
     "metadata": {},
     "output_type": "execute_result"
    }
   ],
   "source": [
    "Redvelvet.index('아이린')"
   ]
  },
  {
   "cell_type": "code",
   "execution_count": 39,
   "metadata": {},
   "outputs": [
    {
     "name": "stdout",
     "output_type": "stream",
     "text": [
      "아이린 없는 ['슬기', '웬디', '조이', '예리']\n",
      "아이린이 돌아온 ['슬기', '웬디', '조이', '예리', '아이린']\n"
     ]
    }
   ],
   "source": [
    "Redvelvet = ['아이린','슬기','웬디','조이','예리'] #remove는 첫번째만나는 객체만 삭제\n",
    "Redvelvet.remove('아이린')\n",
    "print('아이린 없는',Redvelvet)\n",
    "Redvelvet.insert(4,'아이린')\n",
    "print('아이린이 돌아온',Redvelvet)"
   ]
  },
  {
   "cell_type": "markdown",
   "metadata": {},
   "source": [
    "## 딕셔너리"
   ]
  },
  {
   "cell_type": "code",
   "execution_count": 59,
   "metadata": {
    "collapsed": true
   },
   "outputs": [],
   "source": [
    "BOAZ_admin = {'운영지원팀':'박상우','기획팀':'박정수','디자인팀':'김해인','자료연구팀':'연혜민','대외협력팀':'방대영','공동대표':['신준호','김미성']}\n"
   ]
  },
  {
   "cell_type": "code",
   "execution_count": 60,
   "metadata": {},
   "outputs": [
    {
     "name": "stdout",
     "output_type": "stream",
     "text": [
      "박상우\n"
     ]
    },
    {
     "data": {
      "text/plain": [
       "'박상우!'"
      ]
     },
     "execution_count": 60,
     "metadata": {},
     "output_type": "execute_result"
    }
   ],
   "source": [
    "BOAZ_admin['운영지원팀']\n",
    "print(BOAZ_admin.pop('운영지원팀'))\n",
    "BOAZ_admin.get('운영지원팀','박상우!')"
   ]
  },
  {
   "cell_type": "code",
   "execution_count": 61,
   "metadata": {},
   "outputs": [
    {
     "ename": "KeyError",
     "evalue": "'운영지원팀'",
     "output_type": "error",
     "traceback": [
      "\u001b[1;31m---------------------------------------------------------------------------\u001b[0m",
      "\u001b[1;31mKeyError\u001b[0m                                  Traceback (most recent call last)",
      "\u001b[1;32m<ipython-input-61-70965662319a>\u001b[0m in \u001b[0;36m<module>\u001b[1;34m()\u001b[0m\n\u001b[1;32m----> 1\u001b[1;33m \u001b[0mBOAZ_admin\u001b[0m\u001b[1;33m[\u001b[0m\u001b[1;34m'운영지원팀'\u001b[0m\u001b[1;33m]\u001b[0m\u001b[1;33m\u001b[0m\u001b[0m\n\u001b[0m\u001b[0;32m      2\u001b[0m \u001b[0mBOAZ_admin\u001b[0m\u001b[1;33m[\u001b[0m\u001b[1;34m'공동대표'\u001b[0m\u001b[1;33m]\u001b[0m\u001b[1;33m\u001b[0m\u001b[0m\n",
      "\u001b[1;31mKeyError\u001b[0m: '운영지원팀'"
     ]
    }
   ],
   "source": [
    "#BOAZ_admin['운영지원팀']\n",
    "BOAZ_admin['공동대표']\n"
   ]
  },
  {
   "cell_type": "code",
   "execution_count": 46,
   "metadata": {},
   "outputs": [
    {
     "data": {
      "text/plain": [
       "dict_keys(['운영지원팀', '기획팀', '디자인팀', '자료연구팀', '대외협력팀', '공동대표'])"
      ]
     },
     "execution_count": 46,
     "metadata": {},
     "output_type": "execute_result"
    }
   ],
   "source": [
    "BOAZ_admin.keys()"
   ]
  },
  {
   "cell_type": "code",
   "execution_count": 126,
   "metadata": {},
   "outputs": [
    {
     "data": {
      "text/plain": [
       "dict_values(['박상우', '박정수', '김해인', '연혜민', '방대영', ['신준호', '김미성']])"
      ]
     },
     "execution_count": 126,
     "metadata": {},
     "output_type": "execute_result"
    }
   ],
   "source": [
    "BOAZ_admin.values()"
   ]
  },
  {
   "cell_type": "code",
   "execution_count": 47,
   "metadata": {},
   "outputs": [
    {
     "data": {
      "text/plain": [
       "dict_items([('운영지원팀', '박상우'), ('기획팀', '박정수'), ('디자인팀', '김해인'), ('자료연구팀', '연혜민'), ('대외협력팀', '방대영'), ('공동대표', ['신준호', '김미성'])])"
      ]
     },
     "execution_count": 47,
     "metadata": {},
     "output_type": "execute_result"
    }
   ],
   "source": [
    "BOAZ_admin.items()"
   ]
  },
  {
   "cell_type": "markdown",
   "metadata": {},
   "source": [
    "## 참거짓!\n",
    "- 비어있으면 대부분 거짓 : '' \"\" [] {} () 0 None\n",
    "- Apink == Girlsday와 같은 것도 거짓!\n",
    "- Apink != Apink도 거짓!"
   ]
  },
  {
   "cell_type": "markdown",
   "metadata": {},
   "source": [
    "## 제어문"
   ]
  },
  {
   "cell_type": "code",
   "execution_count": 55,
   "metadata": {},
   "outputs": [
    {
     "name": "stdout",
     "output_type": "stream",
     "text": [
      "0\n",
      "1\n",
      "4\n",
      "9\n",
      "16\n",
      "25\n",
      "36\n",
      "49\n",
      "64\n",
      "81\n",
      "100\n"
     ]
    }
   ],
   "source": [
    "boaz = False;\n",
    "while boaz:\n",
    "    for i in range(0,11):\n",
    "        if i > 9:\n",
    "            boaz = False\n",
    "#print(i)"
   ]
  },
  {
   "cell_type": "code",
   "execution_count": 135,
   "metadata": {},
   "outputs": [
    {
     "name": "stdout",
     "output_type": "stream",
     "text": [
      "5\n"
     ]
    }
   ],
   "source": [
    "boaz = True\n",
    "while boaz:\n",
    "    for i in range(0,11):\n",
    "        if i < -1:\n",
    "            boaz = False\n",
    "        elif i == 5:\n",
    "            break\n",
    "    break\n",
    "print(i)"
   ]
  },
  {
   "cell_type": "code",
   "execution_count": 140,
   "metadata": {},
   "outputs": [
    {
     "name": "stdout",
     "output_type": "stream",
     "text": [
      "1\n",
      "3\n",
      "5\n",
      "7\n",
      "9\n"
     ]
    }
   ],
   "source": [
    "a = 0\n",
    "while a < 10:\n",
    "    a=a+1\n",
    "    if a%2 == 0 : continue\n",
    "    print(a)"
   ]
  },
  {
   "cell_type": "markdown",
   "metadata": {},
   "source": [
    "## 함수!"
   ]
  },
  {
   "cell_type": "code",
   "execution_count": 142,
   "metadata": {
    "collapsed": true
   },
   "outputs": [],
   "source": [
    "def say():\n",
    "    print('HO!')"
   ]
  },
  {
   "cell_type": "code",
   "execution_count": 143,
   "metadata": {},
   "outputs": [
    {
     "name": "stdout",
     "output_type": "stream",
     "text": [
      "HO!\n"
     ]
    }
   ],
   "source": [
    "say()"
   ]
  },
  {
   "cell_type": "code",
   "execution_count": 57,
   "metadata": {
    "collapsed": true
   },
   "outputs": [],
   "source": [
    "def sayteamleader(b_d,team):\n",
    "    if type(b_d[team]) == str:\n",
    "        print(team+'의 팀장은 '+b_d[team]+'입니다!!')\n",
    "    else:\n",
    "        print('공동대표는 '+b_d[team][0]+'와 '+b_d[team][1]+'입니다.')    "
   ]
  },
  {
   "cell_type": "code",
   "execution_count": 58,
   "metadata": {},
   "outputs": [
    {
     "name": "stdout",
     "output_type": "stream",
     "text": [
      "운영지원팀의 팀장은 박상우입니다!!\n",
      "기획팀의 팀장은 박정수입니다!!\n",
      "디자인팀의 팀장은 김해인입니다!!\n",
      "자료연구팀의 팀장은 연혜민입니다!!\n",
      "대외협력팀의 팀장은 방대영입니다!!\n",
      "공동대표는 신준호와 김미성입니다.\n"
     ]
    }
   ],
   "source": [
    "for i in BOAZ_admin:\n",
    "    sayteamleader(BOAZ_admin,i)"
   ]
  },
  {
   "cell_type": "code",
   "execution_count": 154,
   "metadata": {
    "collapsed": true
   },
   "outputs": [],
   "source": [
    "def sayteamleader(b_d,team):\n",
    "    if type(b_d[team]) == str:\n",
    "        try:\n",
    "            print(team+'의 팀장은 '+b_d[team]+'입니다!!')\n",
    "        except TypeError:\n",
    "            print('공동대표는 '+b_d[team][0]+'와 '+b_d[team][1]+'입니다.')  \n",
    "        "
   ]
  },
  {
   "cell_type": "code",
   "execution_count": 157,
   "metadata": {},
   "outputs": [
    {
     "name": "stdout",
     "output_type": "stream",
     "text": [
      "운영지원팀의 팀장은 박상우입니다!!\n",
      "기획팀의 팀장은 박정수입니다!!\n",
      "디자인팀의 팀장은 김해인입니다!!\n",
      "자료연구팀의 팀장은 연혜민입니다!!\n",
      "대외협력팀의 팀장은 방대영입니다!!\n",
      "공동대표는 신준호와 김미성입니다.\n"
     ]
    }
   ],
   "source": [
    "for i in BOAZ_admin:\n",
    "    sayteamleader(BOAZ_admin,i)"
   ]
  },
  {
   "cell_type": "code",
   "execution_count": 59,
   "metadata": {
    "collapsed": true
   },
   "outputs": [],
   "source": [
    "def sayTeamLeader(b_d,team):\n",
    "    if type(b_d[team])==str:\n",
    "        try:\n",
    "            print(team+'의 팀장은 '+b_d[team]+'입니다!!')\n",
    "        except TypeError:\n",
    "            print('공동대표는 '+b_d[team][0]+'와 '+b_d[team][1]+'입니다.')"
   ]
  },
  {
   "cell_type": "code",
   "execution_count": 60,
   "metadata": {},
   "outputs": [
    {
     "name": "stdout",
     "output_type": "stream",
     "text": [
      "운영지원팀의 팀장은 박상우입니다!!\n",
      "기획팀의 팀장은 박정수입니다!!\n",
      "디자인팀의 팀장은 김해인입니다!!\n",
      "자료연구팀의 팀장은 연혜민입니다!!\n",
      "대외협력팀의 팀장은 방대영입니다!!\n",
      "공동대표는 신준호와 김미성입니다.\n"
     ]
    }
   ],
   "source": [
    "for i in BOAZ_admin:\n",
    "    sayteamleader(BOAZ_admin,i)"
   ]
  },
  {
   "cell_type": "code",
   "execution_count": null,
   "metadata": {
    "collapsed": true
   },
   "outputs": [],
   "source": []
  }
 ],
 "metadata": {
  "kernelspec": {
   "display_name": "Python 3",
   "language": "python",
   "name": "python3"
  },
  "language_info": {
   "codemirror_mode": {
    "name": "ipython",
    "version": 3
   },
   "file_extension": ".py",
   "mimetype": "text/x-python",
   "name": "python",
   "nbconvert_exporter": "python",
   "pygments_lexer": "ipython3",
   "version": "3.6.3"
  }
 },
 "nbformat": 4,
 "nbformat_minor": 1
}
