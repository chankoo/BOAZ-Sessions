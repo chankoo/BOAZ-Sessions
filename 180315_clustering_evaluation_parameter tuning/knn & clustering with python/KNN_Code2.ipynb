{
 "cells": [
  {
   "cell_type": "code",
   "execution_count": 77,
   "metadata": {},
   "outputs": [],
   "source": [
    "import matplotlib.pyplot as plt\n",
    "# 파이썬 plot찍는 패키지인 matplotlib안에 pyplot모듈을 plt로 불러옵니다\n",
    "from sklearn.preprocessing import StandardScaler\n",
    "# scikit-learn패키지의 preprocessing모듈에서 standardScaler함수를 불러옵니다.\n",
    "from sklearn.model_selection import train_test_split\n",
    "# scikit-learn패키지의 model_selection모듈에서 train_test_split함수를 불러옵니다.\n",
    "from sklearn import datasets\n",
    "# scikit-learn패키지의 datasets모듈을 불러옵니다\n",
    "import numpy as np\n",
    "# 넘파이도 불러오고\n",
    "from matplotlib.colors import ListedColormap\n",
    "#matplotlib에서 listedcolormap도 부르고\n",
    "from sklearn.neighbors import KNeighborsClassifier\n",
    "# 마지막으로 KNN도 불러옵니다"
   ]
  },
  {
   "cell_type": "code",
   "execution_count": 78,
   "metadata": {},
   "outputs": [
    {
     "name": "stdout",
     "output_type": "stream",
     "text": [
      "[[ 1.4  0.2]\n",
      " [ 1.4  0.2]\n",
      " [ 1.3  0.2]]\n",
      "[0 0 1 1 2 2]\n"
     ]
    }
   ],
   "source": [
    "iris = datasets.load_iris()\n",
    "X = iris.data[:, [2, 3]]\n",
    "y = iris.target\n",
    "index = [0,49,50,99,100,149]\n",
    "print(X[:3])\n",
    "print(y[index])\n",
    "# X는 petal length와 petal width만 불러온 데이터입니다.\n",
    "# target은 setosa, versicolor, virginica를 0,1,2로 라벨링한 어레이입니다."
   ]
  },
  {
   "cell_type": "code",
   "execution_count": 79,
   "metadata": {
    "collapsed": true
   },
   "outputs": [],
   "source": [
    "X_train, X_test, y_train, y_test = train_test_split(X,\n",
    "                                                    y,\n",
    "                                                    test_size=0.3,\n",
    "                                                    random_state=0)\n",
    "# X와 y를 test데이터와 train데이터로 나누는 함수입니다.\n",
    "# test_size는 만약 0~1사이의 값이 들어간다면, 훈련데이터의 비율, 정수가 들어간다면 훈련데이터의 개수로 인식됩니다.\n",
    "# random_state는 랜덤시드와 같이 같은 랜덤결과를 내기위한 인자입니다."
   ]
  },
  {
   "cell_type": "code",
   "execution_count": 80,
   "metadata": {},
   "outputs": [
    {
     "name": "stdout",
     "output_type": "stream",
     "text": [
      "[[ 3.5  1. ]\n",
      " [ 5.5  1.8]\n",
      " [ 5.7  2.5]]\n"
     ]
    }
   ],
   "source": [
    "sc = StandardScaler()\n",
    "# X에 대해 정규화를 하기 위해 sc class를 만들어주고\n",
    "print(X_train[:3])\n"
   ]
  },
  {
   "cell_type": "code",
   "execution_count": 81,
   "metadata": {},
   "outputs": [
    {
     "name": "stdout",
     "output_type": "stream",
     "text": [
      "StandardScaler(copy=True, with_mean=True, with_std=True)\n",
      "[[ 3.5  1. ]\n",
      " [ 5.5  1.8]\n",
      " [ 5.7  2.5]]\n"
     ]
    }
   ],
   "source": [
    "sc.fit(X_train)\n",
    "print(sc.fit(X_train))\n",
    "print(X_train[:3])\n",
    "#정규화를 하기위한 평균과 표준오차를 구합니다."
   ]
  },
  {
   "cell_type": "code",
   "execution_count": 82,
   "metadata": {},
   "outputs": [
    {
     "name": "stdout",
     "output_type": "stream",
     "text": [
      "105\n",
      "[[-0.18295039 -0.29145882]\n",
      " [ 0.93066067  0.73721938]\n",
      " [ 1.04202177  1.6373128 ]]\n",
      "45\n",
      "[[ 0.70793846  1.50872803]\n",
      " [ 0.09545238 -0.29145882]\n",
      " [-1.35224199 -1.32013702]]\n"
     ]
    }
   ],
   "source": [
    "X_train_std = sc.transform(X_train)\n",
    "#X_train_std라는 변수에 정규화를 한 X_train을 할당합니다.\n",
    "print(len(X_train_std))\n",
    "print(X_train_std[:3])\n",
    "X_test_std = sc.transform(X_test)\n",
    "#X_test_std라는 변수에 정규화를 한 X_test을 할당합니다.\n",
    "print(len(X_test_std))\n",
    "print(X_test_std[:3])"
   ]
  },
  {
   "cell_type": "code",
   "execution_count": 83,
   "metadata": {},
   "outputs": [
    {
     "name": "stdout",
     "output_type": "stream",
     "text": [
      "[[-0.18295039 -0.29145882]\n",
      " [ 0.93066067  0.73721938]\n",
      " [ 1.04202177  1.6373128 ]]\n",
      "[[ 0.70793846  1.50872803]\n",
      " [ 0.09545238 -0.29145882]\n",
      " [-1.35224199 -1.32013702]]\n",
      "150\n"
     ]
    }
   ],
   "source": [
    "X_combined_std = np.vstack((X_train_std, X_test_std))\n",
    "#np.vstack은 vertical방향으로 array를 붙여줍니다.\n",
    "print(X_combined_std[:3])\n",
    "print(X_combined_std[105:108])\n",
    "print(len(X_combined_std))"
   ]
  },
  {
   "cell_type": "code",
   "execution_count": 84,
   "metadata": {},
   "outputs": [
    {
     "name": "stdout",
     "output_type": "stream",
     "text": [
      "[1 2 2 2 2 1 2 1 1 2 2 2 2 1 2 1 0 2 1 1 1 1 2 0 0 2 1 0 0 1 0 2 1 0 1 2 1\n",
      " 0 2 2 2 2 0 0 2 2 0 2 0 2 2 0 0 2 0 0 0 1 2 2 0 0 0 1 1 0 0 1 0 2 1 2 1 0\n",
      " 2 0 2 0 0 2 0 2 1 1 1 2 2 1 1 0 1 2 2 0 1 1 1 1 0 0 0 2 1 2 0 2 1 0 2 0 2\n",
      " 0 1 1 1 2 1 1 1 1 0 1 1 0 0 2 1 0 0 2 0 0 1 1 0 2 1 0 2 2 1 0 1 1 1 2 0 2\n",
      " 0 0]\n"
     ]
    },
    {
     "data": {
      "text/plain": [
       "KNeighborsClassifier(algorithm='auto', leaf_size=30, metric='minkowski',\n",
       "           metric_params=None, n_jobs=1, n_neighbors=5, p=2,\n",
       "           weights='uniform')"
      ]
     },
     "execution_count": 84,
     "metadata": {},
     "output_type": "execute_result"
    }
   ],
   "source": [
    "y_combined = np.hstack((y_train, y_test))\n",
    "# np.hstack은 당연히 horizontal 방향으로 array를 붙여줍니다.\n",
    "print(y_combined)\n",
    "knn = KNeighborsClassifier(n_neighbors=5, p=2, metric='minkowski')\n",
    "# 앞서 배웠던 개념에 의해 인자를 설명드리면,\n",
    "# 우선 최근접 이웃 몇명을 볼거냐가 n_neighbors\n",
    "# 거리를 재는 방법을 무엇을 쓸것이냐가 p \n",
    "# 이떄 p=1이면 맨해튼, p=2이면 유클리디안 거리측정방법을 사용합니다.\n",
    "knn.fit(X_train_std, y_train)\n",
    "#설정한 knn방식을 X_train_std와 y_train데이터를 사용해서 학습시킵니다."
   ]
  },
  {
   "cell_type": "code",
   "execution_count": 105,
   "metadata": {
    "collapsed": true
   },
   "outputs": [],
   "source": [
    "# 이제 플롯으로 그려봅시다\n",
    "def plot_decision_regions(X, y, classifier, test_idx=None, resolution=0.02):\n",
    "    #인자 5개가 들어가는 함수를 만듭니다.\n",
    "    markers = ('s', 'x', 'o', '^', 'v')\n",
    "    # 플롯에 찍을 마커를 정하고\n",
    "    colors = ('red', 'blue', 'lightgreen', 'gray', 'cyan')\n",
    "    # 플롯에 찍을 마커의 색도 미리 넣어둡니다. \n",
    "    # 우리는 변수를 3개 쓰지만, 나중에 변수가 더 많아질 수 있으니 5개까지 넣어둡니다\n",
    "    cmap = ListedColormap(colors[:len(np.unique(y))])\n",
    "    # 색집합 colors에서 우리가 찍을 y의 고유카운트만큼 색을 꺼내서 cmap에 저장합니다\n",
    "    \n",
    "    # 이제 KNN이 구별해주는 경계를 그려봅니다.\n",
    "    x1_min, x1_max = X[:, 0].min() - 1, X[:, 0].max() + 1\n",
    "    # x1은 petal length\n",
    "    x2_min, x2_max = X[:, 1].min() - 1, X[:, 1].max() + 1\n",
    "    # x2는 petal width입니다\n",
    "    xx1, xx2 = np.meshgrid(np.arange(x1_min, x1_max, resolution),\n",
    "                           np.arange(x2_min, x2_max, resolution))\n",
    "    # print('xx1 = ',xx1)\n",
    "    Z = classifier.predict(np.array([xx1.ravel(), xx2.ravel()]).T)\n",
    "    # print('Z = ',Z)\n",
    "    Z = Z.reshape(xx1.shape)\n",
    "    # print('reshaped Z = ',Z)\n",
    "    plt.contourf(xx1, xx2, Z, alpha=0.2, cmap=cmap)\n",
    "    # contouf는 어떠한 shape를 좌표명면상에 그리는 함수입니다.\n",
    "    # x와 y를 각각 지정해주고 구분값 라벨을 넣어 준 뒤\n",
    "    # 투명도와 색을 지정해 줍니다.\n",
    "    plt.xlim(xx1.min(), xx1.max())\n",
    "    plt.ylim(xx2.min(), xx2.max())\n",
    "    # 이제 실제 데이터를 찍어봅시다.\n",
    "    for idx, cl in enumerate(np.unique(y)):\n",
    "    # enumerate는 저번에 설명한 것과 같이 포문으로 어떤 어레이나 리스트 안의 element와 element의 index까지 반환해주는 함수입니다.\n",
    "        plt.scatter(x=X[y == cl, 0], y=X[y == cl, 1],\n",
    "                    alpha=0.8, c=cmap(idx),\n",
    "                    marker=markers[idx], label=cl)\n",
    "        #스캐터 plot을 찍는데, 우선 'y == 어떠한 라벨값'을 인덱스로 사용해서 라벨별 x를 뽑아 색과 마커를 모두 그 인덱스에 맞게 찍어줍니다.\n",
    "        #총 3번의 포문이 돌아 0,1,2의 즉, setosa 등과 같은 꽃종류?를 구별해 줍니다.\n",
    "        #근데 여기까지만 하면 어떤게 트레이닝이고 어떤게 테스트인지 모르게 됩니다.\n",
    "        #따라서 아래와 같이 테스트 데이터에는 회색 테두리를 둘러주는 코드를 넣습니다.\n",
    "    if test_idx:\n",
    "        X_test, y_test = X[test_idx, :], y[test_idx]\n",
    "        plt.scatter(X_test[:, 0], X_test[:, 1], facecolors='none', edgecolors='gray',\n",
    "                    alpha=1.0, linewidth=1, marker='o',\n",
    "                    s=55, label='test set')\n",
    "        "
   ]
  },
  {
   "cell_type": "code",
   "execution_count": 104,
   "metadata": {},
   "outputs": [
    {
     "name": "stdout",
     "output_type": "stream",
     "text": [
      "xx1 =  [[-2.57496421 -2.55496421 -2.53496421 ...,  2.66503579  2.68503579\n",
      "   2.70503579]\n",
      " [-2.57496421 -2.55496421 -2.53496421 ...,  2.66503579  2.68503579\n",
      "   2.70503579]\n",
      " [-2.57496421 -2.55496421 -2.53496421 ...,  2.66503579  2.68503579\n",
      "   2.70503579]\n",
      " ..., \n",
      " [-2.57496421 -2.55496421 -2.53496421 ...,  2.66503579  2.68503579\n",
      "   2.70503579]\n",
      " [-2.57496421 -2.55496421 -2.53496421 ...,  2.66503579  2.68503579\n",
      "   2.70503579]\n",
      " [-2.57496421 -2.55496421 -2.53496421 ...,  2.66503579  2.68503579\n",
      "   2.70503579]]\n",
      "Z =  [0 0 0 ..., 2 2 2]\n",
      "reshaped Z =  [[0 0 0 ..., 1 1 1]\n",
      " [0 0 0 ..., 1 1 1]\n",
      " [0 0 0 ..., 1 1 1]\n",
      " ..., \n",
      " [2 2 2 ..., 2 2 2]\n",
      " [2 2 2 ..., 2 2 2]\n",
      " [2 2 2 ..., 2 2 2]]\n"
     ]
    },
    {
     "data": {
      "image/png": "[encoded data removed]",
      "text/plain": [
       "<matplotlib.figure.Figure at 0x10aabf668>"
      ]
     },
     "metadata": {},
     "output_type": "display_data"
    }
   ],
   "source": [
    "# 이제 다왔습니다. 실제 우리가 전처리한 데이터를 넣고, 테스트데이터의 인덱스도 넣어준 뒤 \n",
    "# xlabel과 ylabel, 그리고 마지막으로 범례까지 넣어준 뒤 plt.show()를 합니다.\n",
    "plot_decision_regions(X_combined_std, y_combined, classifier=knn, test_idx=range(105,150))\n",
    "plt.xlabel('petal length [standardized]')\n",
    "plt.ylabel('petal width [standardized]')\n",
    "plt.legend(loc='upper left')\n",
    "plt.show()"
   ]
  },
  {
   "cell_type": "code",
   "execution_count": null,
   "metadata": {
    "collapsed": true
   },
   "outputs": [],
   "source": []
  }
 ],
 "metadata": {
  "kernelspec": {
   "display_name": "Python 3",
   "language": "python",
   "name": "python3"
  },
  "language_info": {
   "codemirror_mode": {
    "name": "ipython",
    "version": 3
   },
   "file_extension": ".py",
   "mimetype": "text/x-python",
   "name": "python",
   "nbconvert_exporter": "python",
   "pygments_lexer": "ipython3",
   "version": "3.6.4"
  }
 },
 "nbformat": 4,
 "nbformat_minor": 2
}
