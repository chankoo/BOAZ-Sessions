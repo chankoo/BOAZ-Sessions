{
 "cells": [
  {
   "cell_type": "code",
   "execution_count": 1,
   "metadata": {
    "collapsed": true
   },
   "outputs": [],
   "source": [
    "import numpy as np\n",
    "import operator"
   ]
  },
  {
   "cell_type": "code",
   "execution_count": 2,
   "metadata": {
    "collapsed": true
   },
   "outputs": [],
   "source": [
    "def createDataSet():\n",
    "    group = np.array([ [1.0, 2.0], [1.0, 4.0], [4.0, 1.0], [4.0, 2.0] ])\n",
    "    ## Data 4개를 좌표평면에 표현합니다.\n",
    "    labels = ['Action', 'Action', 'Romantic', 'Romantic']\n",
    "    ## 각각의 data들은 순서대로 action action romantic romantic 영화입니다.\n",
    "    return group, labels"
   ]
  },
  {
   "cell_type": "code",
   "execution_count": 3,
   "metadata": {
    "collapsed": true
   },
   "outputs": [],
   "source": [
    "def calcDistance(inX, dataSet, labels, k):\n",
    "    # shape는 객체의 모양을 튜플로 반환하고\n",
    "    # shape[0]은 rows의 숫자를 반환합니다.\n",
    "    dataSetSize = dataSet.shape[0]  # dataSetSize = 4\n",
    "    \n",
    "    # numpy의 tile(A, reps) 함수: A가 reps번 반복된 결과를 하나의 행렬로 만들어 준다.\n",
    "    # reps가 (a,b) 같은 튜플이라면 가로(row)로 a번 반복, 세로(column)로 b번 반복\n",
    "    # 여기서 tile(inX, (dataSetSize,1))은 [ [2,3] [2,3] [2,3] [2,3] ] 반환함\n",
    "    # diffMat는 [ [2,3] [2,3] [2,3] [2,3] ]에서 dataSet을 뺀 값으로 [ [1, 1], [1, -1], [-2, 2], [-2, 1] ].\n",
    "    diffMat = np.tile(inX, (dataSetSize, 1)) - dataSet\n",
    "    \n",
    "    sqDiffMat = diffMat * diffMat\n",
    "    \n",
    "    # sqDistances는 x^2 + y^2로 [2,2,8,5]입니다.\n",
    "    sqDistances = sqDiffMat.sum(axis=1)\n",
    "    # 거리 공식에 맞게 root를 씌워줍니다.\n",
    "    distances = sqDistances ** 0.5\n",
    "\n",
    "    # numpy.argsort()는 작은 순서대로 index가 주는데, 이 경우는 [2,2,8,5]이므로 [0,1,3,2]로 반환됩니다.\n",
    "    sortedDistIndices = distances.argsort()\n",
    "    return sortedDistIndices"
   ]
  },
  {
   "cell_type": "code",
   "execution_count": 4,
   "metadata": {
    "collapsed": true
   },
   "outputs": [],
   "source": [
    "def findMajorityClass(inX, dataSet, labels, k, sortedDistIndices):\n",
    "    # 딕셔너리 생성\n",
    "    classCount = {}\n",
    "\n",
    "    # k번 반복 (3번)\n",
    "    for i in range(k):\n",
    "        voteIlabel = labels[sortedDistIndices[i]]\n",
    "        # 선택된 label에 1을 증가시켜준다.\n",
    "        classCount[voteIlabel] = classCount.get(voteIlabel, 0) + 1\n",
    "\n",
    "    # classCount 딕셔너리 : {'Action': 2, 'Romantic': 1}\n",
    "\n",
    "    return sorted(classCount.items(), key=operator.itemgetter(1), reverse=True)\n",
    "    # 원소가 많은 것을 앞으로 보내도록 reverse를 true로 설정\n",
    "    # itemgetter가 1인 이유는 {'Action': 2}에서 index가 1인 \"2\"를 비교대상으로 삼기 위해서"
   ]
  },
  {
   "cell_type": "code",
   "execution_count": 5,
   "metadata": {
    "collapsed": true
   },
   "outputs": [],
   "source": [
    "def classify0(inX, dataSet, labels, k):\n",
    "    # inX와 current point 사이의 거리를 피타고리안 방식으로 구합니다.\n",
    "    sortedDistIndices = calcDistance(inX, dataSet, labels, k)\n",
    "    # inX에서 가장 가까운 거리에 있는 k개의 items를 찾고  그 items 중에서 majority인 class를 구합니다.\n",
    "    sortedClassCount = findMajorityClass(inX, dataSet, labels, k, sortedDistIndices)\n",
    "    # sortedClassCount는 [('Action', 2)]\n",
    "    return sortedClassCount[0][0]\n",
    "    # Action을 return합니다."
   ]
  },
  {
   "cell_type": "code",
   "execution_count": 6,
   "metadata": {},
   "outputs": [
    {
     "name": "stdout",
     "output_type": "stream",
     "text": [
      "Action\n"
     ]
    }
   ],
   "source": [
    "group, labels = createDataSet()\n",
    "result = classify0([2.0, 3.0], group, labels,3)\n",
    "# (2,3)을 knn을 통해서 어느 집단에 속하는 지 알아볼 것입니다. 이 때, k값은 3입니다.\n",
    "# k는 작은 홀수값이 좋은데, k가 짝수이면 두 개의 집단의 원소 갯수가 동일한 경우가 있을 수 있습니다.\n",
    "# 이 경우에 어느 집단에 속할 지 알 수 없습니다.\n",
    "print(result)"
   ]
  },
  {
   "cell_type": "code",
   "execution_count": null,
   "metadata": {
    "collapsed": true
   },
   "outputs": [],
   "source": []
  }
 ],
 "metadata": {
  "kernelspec": {
   "display_name": "Python 3",
   "language": "python",
   "name": "python3"
  },
  "language_info": {
   "codemirror_mode": {
    "name": "ipython",
    "version": 3
   },
   "file_extension": ".py",
   "mimetype": "text/x-python",
   "name": "python",
   "nbconvert_exporter": "python",
   "pygments_lexer": "ipython3",
   "version": "3.6.4"
  }
 },
 "nbformat": 4,
 "nbformat_minor": 2
}
