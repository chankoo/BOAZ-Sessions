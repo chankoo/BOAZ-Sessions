{
 "cells": [
  {
   "cell_type": "markdown",
   "metadata": {},
   "source": [
    "### 예시1 모델 평가 개념"
   ]
  },
  {
   "cell_type": "code",
   "execution_count": 1,
   "metadata": {},
   "outputs": [],
   "source": [
    "from sklearn.datasets import make_blobs\n",
    "from sklearn.linear_model import LogisticRegression\n",
    "from sklearn.model_selection import train_test_split"
   ]
  },
  {
   "cell_type": "code",
   "execution_count": 31,
   "metadata": {},
   "outputs": [],
   "source": [
    "X, y = make_blobs(n_samples=1000,random_state=None) #데이터셋 생성."
   ]
  },
  {
   "cell_type": "code",
   "execution_count": 32,
   "metadata": {},
   "outputs": [],
   "source": [
    "#Training data(학습용)와 Test data(평가용)로 데이터를 나눈다."
   ]
  },
  {
   "cell_type": "code",
   "execution_count": 38,
   "metadata": {},
   "outputs": [],
   "source": [
    "X_train, X_test, y_train, y_test = train_test_split(X, y, random_state=None)"
   ]
  },
  {
   "cell_type": "code",
   "execution_count": 39,
   "metadata": {},
   "outputs": [],
   "source": [
    "#예시 모델 logreg를 Training data에 적합시킨다."
   ]
  },
  {
   "cell_type": "code",
   "execution_count": 40,
   "metadata": {},
   "outputs": [],
   "source": [
    "logreg = LogisticRegression().fit(X_train, y_train)"
   ]
  },
  {
   "cell_type": "code",
   "execution_count": 41,
   "metadata": {},
   "outputs": [],
   "source": [
    "#Test data를 통해 모델을 평가"
   ]
  },
  {
   "cell_type": "code",
   "execution_count": 42,
   "metadata": {},
   "outputs": [
    {
     "data": {
      "text/plain": [
       "0.968"
      ]
     },
     "execution_count": 42,
     "metadata": {},
     "output_type": "execute_result"
    }
   ],
   "source": [
    "logreg.score(X_test, y_test) #테스트 데이터에 적합시켰을 때 88%의 성공률을 보인다."
   ]
  },
  {
   "cell_type": "markdown",
   "metadata": {},
   "source": [
    "### Cross-validation (교차 검증)"
   ]
  },
  {
   "cell_type": "code",
   "execution_count": 9,
   "metadata": {
    "collapsed": true
   },
   "outputs": [],
   "source": [
    "#이전에 anaconda prompt 열고 pip install mglearn"
   ]
  },
  {
   "cell_type": "code",
   "execution_count": 43,
   "metadata": {},
   "outputs": [],
   "source": [
    "import mglearn # 그래프나 데이터 적재와 관련한 세세한 코드를 일일이 쓰지 않아도 되게끔 이 책을 위해 만든 유틸리티 함수."
   ]
  },
  {
   "cell_type": "code",
   "execution_count": 44,
   "metadata": {},
   "outputs": [],
   "source": [
    "import matplotlib.pyplot as plt"
   ]
  },
  {
   "cell_type": "code",
   "execution_count": 12,
   "metadata": {},
   "outputs": [
    {
     "name": "stderr",
     "output_type": "stream",
     "text": [
      "C:\\Users\\Chankoo\\Anaconda3\\lib\\site-packages\\matplotlib\\pyplot.py:2669: MatplotlibDeprecationWarning: The *bottom* kwarg to `barh` is deprecated use *y* instead. Support for *bottom* will be removed in Matplotlib 3.0\n",
      "  ret = ax.barh(*args, **kwargs)\n"
     ]
    },
    {
     "data": {
      "image/png": "[encoded data removed]",
      "text/plain": [
       "<matplotlib.figure.Figure at 0x201dda49f60>"
      ]
     },
     "metadata": {},
     "output_type": "display_data"
    }
   ],
   "source": [
    "mglearn.plots.plot_cross_validation()\n",
    "plt.show()"
   ]
  },
  {
   "cell_type": "markdown",
   "metadata": {},
   "source": [
    "### Cross-validation in scikit-learn (교차 검증)"
   ]
  },
  {
   "cell_type": "markdown",
   "metadata": {},
   "source": [
    "주어진 데이터를 쪼개어 일부는 학습을 시켜 모델을 만드는데 사용(traing data)하고,\n",
    "일부는 모델을 검증(test data)하는데 사용하는 방법.\n",
    "\n",
    "- 과적합을 피하기 위해서 사용한다. -> 예측을 위한 일반화(Generalization)를 목적으로"
   ]
  },
  {
   "cell_type": "code",
   "execution_count": 45,
   "metadata": {},
   "outputs": [],
   "source": [
    "from sklearn.model_selection import cross_val_score\n",
    "from sklearn.datasets import load_iris\n",
    "from sklearn.linear_model import LogisticRegression"
   ]
  },
  {
   "cell_type": "code",
   "execution_count": 46,
   "metadata": {},
   "outputs": [],
   "source": [
    "iris = load_iris()"
   ]
  },
  {
   "cell_type": "code",
   "execution_count": 48,
   "metadata": {},
   "outputs": [],
   "source": [
    "logreg = LogisticRegression()"
   ]
  },
  {
   "cell_type": "code",
   "execution_count": 52,
   "metadata": {},
   "outputs": [],
   "source": [
    "scores = cross_val_score(logreg, iris.data, iris.target) #cross_val_score의 매개 변수들은 평가하고자 하는 모델이다."
   ]
  },
  {
   "cell_type": "code",
   "execution_count": 54,
   "metadata": {},
   "outputs": [
    {
     "name": "stdout",
     "output_type": "stream",
     "text": [
      "cross-validation scores:  [0.96078431 0.92156863 0.95833333]\n"
     ]
    },
    {
     "data": {
      "text/plain": [
       "numpy.ndarray"
      ]
     },
     "execution_count": 54,
     "metadata": {},
     "output_type": "execute_result"
    }
   ],
   "source": [
    "print(\"cross-validation scores: \", scores) "
   ]
  },
  {
   "cell_type": "code",
   "execution_count": 56,
   "metadata": {},
   "outputs": [],
   "source": [
    "scores = cross_val_score(logreg, iris.data, iris.target, cv=10) #cv를 이용하여 fold 수를 변경할 수 있다."
   ]
  },
  {
   "cell_type": "code",
   "execution_count": 19,
   "metadata": {
    "collapsed": true
   },
   "outputs": [],
   "source": [
    "# fold가 5개이면 전체 데이터를 5개로 나눈 것.\n",
    "# 보통 5나 10을 사용함.(10을 더 보편적으로 사용함.)"
   ]
  },
  {
   "cell_type": "code",
   "execution_count": 57,
   "metadata": {},
   "outputs": [
    {
     "data": {
      "text/plain": [
       "array([1.        , 1.        , 1.        , 0.93333333, 0.93333333,\n",
       "       0.93333333, 0.8       , 0.93333333, 1.        , 1.        ])"
      ]
     },
     "execution_count": 57,
     "metadata": {},
     "output_type": "execute_result"
    }
   ],
   "source": [
    "scores"
   ]
  },
  {
   "cell_type": "code",
   "execution_count": 58,
   "metadata": {},
   "outputs": [
    {
     "data": {
      "text/plain": [
       "0.9533333333333334"
      ]
     },
     "execution_count": 58,
     "metadata": {},
     "output_type": "execute_result"
    }
   ],
   "source": [
    "scores.mean() #교차 검증의 정확도를 보는 일반적인 방법은 평균을 계산하는 것이다."
   ]
  },
  {
   "cell_type": "markdown",
   "metadata": {},
   "source": [
    "### Stratified K-Fold cross-validation and other strategies "
   ]
  },
  {
   "cell_type": "markdown",
   "metadata": {},
   "source": [
    "데이터의 첫번째 부분부터 시작하여 데이터 셋을 k-개로 분할하는 것은 항상 좋은 방법이 아닐 수 있다. -> 애초에 전체 데이터의 기본적인 속성을 알고 그에 따라 미리 분류해놓은 그룹을 정보로 층화하여 fold를 구성한다면 더 좋은 검증 방법이 될 것이다. "
   ]
  },
  {
   "cell_type": "code",
   "execution_count": 59,
   "metadata": {},
   "outputs": [],
   "source": [
    "from sklearn.datasets import load_iris"
   ]
  },
  {
   "cell_type": "code",
   "execution_count": 60,
   "metadata": {},
   "outputs": [],
   "source": [
    "iris = load_iris()"
   ]
  },
  {
   "cell_type": "code",
   "execution_count": 61,
   "metadata": {},
   "outputs": [
    {
     "name": "stdout",
     "output_type": "stream",
     "text": [
      "[0 0 0 0 0 0 0 0 0 0 0 0 0 0 0 0 0 0 0 0 0 0 0 0 0 0 0 0 0 0 0 0 0 0 0 0 0\n",
      " 0 0 0 0 0 0 0 0 0 0 0 0 0 1 1 1 1 1 1 1 1 1 1 1 1 1 1 1 1 1 1 1 1 1 1 1 1\n",
      " 1 1 1 1 1 1 1 1 1 1 1 1 1 1 1 1 1 1 1 1 1 1 1 1 1 1 2 2 2 2 2 2 2 2 2 2 2\n",
      " 2 2 2 2 2 2 2 2 2 2 2 2 2 2 2 2 2 2 2 2 2 2 2 2 2 2 2 2 2 2 2 2 2 2 2 2 2\n",
      " 2 2]\n"
     ]
    }
   ],
   "source": [
    "print(iris.target) #이 데이터를 k값이 3이 되도록 설정한다면, test데이터는 오직 0만, training데이터는 1,2만 들어가게 될 수 있다.\n",
    "#그렇게 되면 세 데이터가 모두 다르기 때문에, 모델의 성능 평가가 어렵다."
   ]
  },
  {
   "cell_type": "code",
   "execution_count": 24,
   "metadata": {},
   "outputs": [
    {
     "name": "stderr",
     "output_type": "stream",
     "text": [
      "C:\\Users\\Chankoo\\Anaconda3\\lib\\site-packages\\mglearn\\plot_cross_validation.py:121: MatplotlibDeprecationWarning: The *bottom* kwarg to `barh` is deprecated use *y* instead. Support for *bottom* will be removed in Matplotlib 3.0\n",
      "  color=colors, hatch=\"//\", edgecolor='k', align='edge')\n",
      "C:\\Users\\Chankoo\\Anaconda3\\lib\\site-packages\\mglearn\\plot_cross_validation.py:125: MatplotlibDeprecationWarning: The *bottom* kwarg to `barh` is deprecated use *y* instead. Support for *bottom* will be removed in Matplotlib 3.0\n",
      "  color=\"w\", edgecolor='k', align='edge')\n",
      "C:\\Users\\Chankoo\\Anaconda3\\lib\\site-packages\\mglearn\\plot_cross_validation.py:158: MatplotlibDeprecationWarning: The *bottom* kwarg to `barh` is deprecated use *y* instead. Support for *bottom* will be removed in Matplotlib 3.0\n",
      "  height=.6, color=\"grey\", hatch=\"//\", edgecolor='k', align='edge')\n",
      "C:\\Users\\Chankoo\\Anaconda3\\lib\\site-packages\\mglearn\\plot_cross_validation.py:163: MatplotlibDeprecationWarning: The *bottom* kwarg to `barh` is deprecated use *y* instead. Support for *bottom* will be removed in Matplotlib 3.0\n",
      "  hatch=\"//\", edgecolor='k', align='edge')\n",
      "C:\\Users\\Chankoo\\Anaconda3\\lib\\site-packages\\mglearn\\plot_cross_validation.py:167: MatplotlibDeprecationWarning: The *bottom* kwarg to `barh` is deprecated use *y* instead. Support for *bottom* will be removed in Matplotlib 3.0\n",
      "  edgecolor='k', align='edge')\n",
      "C:\\Users\\Chankoo\\Anaconda3\\lib\\site-packages\\mglearn\\plot_cross_validation.py:171: MatplotlibDeprecationWarning: The *bottom* kwarg to `barh` is deprecated use *y* instead. Support for *bottom* will be removed in Matplotlib 3.0\n",
      "  align='edge')\n",
      "C:\\Users\\Chankoo\\Anaconda3\\lib\\site-packages\\mglearn\\plot_cross_validation.py:175: MatplotlibDeprecationWarning: The *bottom* kwarg to `barh` is deprecated use *y* instead. Support for *bottom* will be removed in Matplotlib 3.0\n",
      "  color=\"w\", edgecolor='k', align='edge')\n"
     ]
    },
    {
     "data": {
      "image/png": "[encoded data removed]",
      "text/plain": [
       "<matplotlib.figure.Figure at 0x201ddadc208>"
      ]
     },
     "metadata": {},
     "output_type": "display_data"
    }
   ],
   "source": [
    "mglearn.plots.plot_stratified_cross_validation()\n",
    "plt.show()"
   ]
  },
  {
   "cell_type": "markdown",
   "metadata": {},
   "source": [
    "### More control over cross-validation"
   ]
  },
  {
   "cell_type": "markdown",
   "metadata": {},
   "source": [
    "다른 사람의 결과를 재현하기 위해 데이터에 표준 k-fold cross-validation을 사용하고자 하는 경우."
   ]
  },
  {
   "cell_type": "code",
   "execution_count": 62,
   "metadata": {},
   "outputs": [],
   "source": [
    "from sklearn.model_selection import KFold"
   ]
  },
  {
   "cell_type": "code",
   "execution_count": 63,
   "metadata": {},
   "outputs": [],
   "source": [
    "kfold5 = KFold(n_splits=5) #사용하고자 하는 fold 수"
   ]
  },
  {
   "cell_type": "code",
   "execution_count": 68,
   "metadata": {},
   "outputs": [
    {
     "data": {
      "text/plain": [
       "array([1.        , 0.93333333, 0.43333333, 0.96666667, 0.43333333])"
      ]
     },
     "execution_count": 68,
     "metadata": {},
     "output_type": "execute_result"
    }
   ],
   "source": [
    "cross_val_score(logreg, iris.data, iris.target, cv=kfold5) #cv에 kfold를 할당."
   ]
  },
  {
   "cell_type": "code",
   "execution_count": 66,
   "metadata": {},
   "outputs": [],
   "source": [
    "kfold3 = KFold(n_splits=3) # fold 수가 3이면 나쁘다는 것을 보여주는 예시"
   ]
  },
  {
   "cell_type": "code",
   "execution_count": 69,
   "metadata": {},
   "outputs": [
    {
     "data": {
      "text/plain": [
       "array([0., 0., 0.])"
      ]
     },
     "execution_count": 69,
     "metadata": {},
     "output_type": "execute_result"
    }
   ],
   "source": [
    "cross_val_score(logreg,iris.data,iris.target,cv=kfold3)"
   ]
  },
  {
   "cell_type": "code",
   "execution_count": 31,
   "metadata": {
    "collapsed": true
   },
   "outputs": [],
   "source": [
    "# 모두 0이 되는 문제를 해결하기 위한 다른 방법 중 하나는 데이터를 라벨별로 제거하기 위해 데이터를 삭제하는 것이다."
   ]
  },
  {
   "cell_type": "code",
   "execution_count": 30,
   "metadata": {},
   "outputs": [],
   "source": [
    "kfold = KFold(n_splits=3, shuffle=True, random_state=0)"
   ]
  },
  {
   "cell_type": "code",
   "execution_count": 31,
   "metadata": {},
   "outputs": [
    {
     "data": {
      "text/plain": [
       "array([0.9 , 0.96, 0.96])"
      ]
     },
     "execution_count": 31,
     "metadata": {},
     "output_type": "execute_result"
    }
   ],
   "source": [
    "cross_val_score(logreg, iris.data, iris.target, cv=kfold)"
   ]
  },
  {
   "cell_type": "markdown",
   "metadata": {},
   "source": [
    "### Leave-One-Out cross-validation"
   ]
  },
  {
   "cell_type": "markdown",
   "metadata": {},
   "source": [
    "한개의 데이터를 Test set으로 만드는 방법."
   ]
  },
  {
   "cell_type": "code",
   "execution_count": 34,
   "metadata": {
    "collapsed": true
   },
   "outputs": [],
   "source": [
    "from sklearn.model_selection import LeaveOneOut"
   ]
  },
  {
   "cell_type": "code",
   "execution_count": 35,
   "metadata": {
    "collapsed": true
   },
   "outputs": [],
   "source": [
    "loo = LeaveOneOut()"
   ]
  },
  {
   "cell_type": "code",
   "execution_count": 36,
   "metadata": {
    "collapsed": true
   },
   "outputs": [],
   "source": [
    "scores = cross_val_score(logreg, iris.data, iris.target, cv=loo)"
   ]
  },
  {
   "cell_type": "code",
   "execution_count": 37,
   "metadata": {},
   "outputs": [
    {
     "name": "stdout",
     "output_type": "stream",
     "text": [
      "number of cv iterations:  150\n"
     ]
    }
   ],
   "source": [
    "print(\"number of cv iterations: \", len(scores))"
   ]
  },
  {
   "cell_type": "code",
   "execution_count": 38,
   "metadata": {},
   "outputs": [
    {
     "name": "stdout",
     "output_type": "stream",
     "text": [
      "mean accuracy:  0.953333333333\n"
     ]
    }
   ],
   "source": [
    "print(\"mean accuracy: \", scores.mean())"
   ]
  },
  {
   "cell_type": "markdown",
   "metadata": {},
   "source": [
    "### Shuffle-Split cross-validation"
   ]
  },
  {
   "cell_type": "markdown",
   "metadata": {},
   "source": [
    "학습용 데이터(train data)를 선택하는 방법 중 하나로 랜덤하게 선택하는 Shuffle 방법. \n",
    "- 이외에 데이터가 입력된 순서대로 선택하는 Linear, 타겟 변수에 대한 비율에 맞춰서 랜덤하게 선택하는 Stratified 방법이 있다.) "
   ]
  },
  {
   "cell_type": "code",
   "execution_count": 39,
   "metadata": {},
   "outputs": [
    {
     "data": {
      "image/png": "[encoded data removed]",
      "text/plain": [
       "<matplotlib.figure.Figure at 0x51aff48160>"
      ]
     },
     "metadata": {},
     "output_type": "display_data"
    }
   ],
   "source": [
    "mglearn.plots.plot_shuffle_split()\n",
    "plt.show()"
   ]
  },
  {
   "cell_type": "code",
   "execution_count": 40,
   "metadata": {
    "collapsed": true
   },
   "outputs": [],
   "source": [
    "from sklearn.model_selection import ShuffleSplit"
   ]
  },
  {
   "cell_type": "code",
   "execution_count": 41,
   "metadata": {
    "collapsed": true
   },
   "outputs": [],
   "source": [
    "shuffle_split = ShuffleSplit(test_size=.5, train_size=.5, n_splits=10)"
   ]
  },
  {
   "cell_type": "code",
   "execution_count": 42,
   "metadata": {},
   "outputs": [
    {
     "data": {
      "text/plain": [
       "array([ 0.8       ,  0.94666667,  0.97333333,  0.90666667,  0.94666667,\n",
       "        0.94666667,  0.89333333,  0.89333333,  0.96      ,  0.94666667])"
      ]
     },
     "execution_count": 42,
     "metadata": {},
     "output_type": "execute_result"
    }
   ],
   "source": [
    "cross_val_score(logreg, iris.data, iris.target, cv=shuffle_split)"
   ]
  },
  {
   "cell_type": "markdown",
   "metadata": {},
   "source": [
    "### Cross-validation with groups"
   ]
  },
  {
   "cell_type": "markdown",
   "metadata": {},
   "source": [
    "데이터가 밀접한 관련이 있는 그룹에 있을 때 사용하는 방법.\n"
   ]
  },
  {
   "cell_type": "markdown",
   "metadata": {},
   "source": [
    "예시) 얼굴사진으로 감정을 인식하는 시스템 \n",
    "- 일반적인 교차검증 방법을 사용하면 같은 사람의 사진이 Training과 Test에 있을 확률이 높기 때문에 새로운 얼굴에 대한 평가를 정확하게 하기 위해서, 우리는 Training과 Test가 서로 다른 사람들의 이미지를 포함하도록 해야 한다."
   ]
  },
  {
   "cell_type": "code",
   "execution_count": 43,
   "metadata": {},
   "outputs": [
    {
     "data": {
      "image/png": "[encoded data removed]",
      "text/plain": [
       "<matplotlib.figure.Figure at 0x51affbf630>"
      ]
     },
     "metadata": {},
     "output_type": "display_data"
    }
   ],
   "source": [
    "mglearn.plots.plot_group_kfold()\n",
    "plt.show()"
   ]
  },
  {
   "cell_type": "code",
   "execution_count": 44,
   "metadata": {
    "collapsed": true
   },
   "outputs": [],
   "source": [
    "from sklearn.model_selection import GroupKFold"
   ]
  },
  {
   "cell_type": "code",
   "execution_count": 45,
   "metadata": {
    "collapsed": true
   },
   "outputs": [],
   "source": [
    "X, y = make_blobs(n_samples=12, random_state=0) #데이터셋 생성"
   ]
  },
  {
   "cell_type": "code",
   "execution_count": 46,
   "metadata": {
    "collapsed": true
   },
   "outputs": [],
   "source": [
    "labels = [0, 0, 0, 1, 1, 1, 1, 2, 2, 3, 3, 3] #0,1,2,3은 값 각각이 아니라 값이 가지고 있는 정보. 위의 예시에서 각 사람 이름. "
   ]
  },
  {
   "cell_type": "code",
   "execution_count": 47,
   "metadata": {},
   "outputs": [
    {
     "data": {
      "text/plain": [
       "array([ 0.75      ,  0.8       ,  0.66666667])"
      ]
     },
     "execution_count": 47,
     "metadata": {},
     "output_type": "execute_result"
    }
   ],
   "source": [
    "cross_val_score(logreg, X, y, labels, cv=GroupKFold(n_splits=3))"
   ]
  },
  {
   "cell_type": "code",
   "execution_count": null,
   "metadata": {
    "collapsed": true
   },
   "outputs": [],
   "source": []
  },
  {
   "cell_type": "markdown",
   "metadata": {},
   "source": [
    "## Grid Search\n",
    "\n",
    " - 모델의 성능을 최대로 높여주는 매개변수(모수) 값을 찾아야 한다.\n",
    " - Grid Search(그리드 서치) : 관심 있는 매개변수들을 대상으로 가능한 모든 조합을 시도"
   ]
  },
  {
   "cell_type": "markdown",
   "metadata": {},
   "source": [
    "### 간단한 Grid Search\n",
    "\n",
    " 1. 클래스 중 하나인 SVC에 구현된 RVF 커널 SVM을 사용함.*SVM = Support Vector Machine => 분류를 위한 머신러닝의 한 줄기. ‘서포트 벡터’ 간의 여백(margin)을 최대화하는 분류 모델.\n",
    " 2. 여기서는 gamma와 규제 매개변수 C가 중요\n",
    " 3. 매개변수 C와 gamma에 0.001, 0.01 , 0.1, 1, 10, 100을 적용 => 조합의 수 : 36 (가지)\n",
    " 4. 이 모든 조합을 보기위해 grid를 만듬"
   ]
  },
  {
   "cell_type": "code",
   "execution_count": 48,
   "metadata": {
    "collapsed": true
   },
   "outputs": [],
   "source": [
    "# 간단한 그리드 서치 구현\n",
    "from sklearn.svm import SVC \n",
    "from sklearn.model_selection import train_test_split\n",
    "from sklearn.datasets import load_iris"
   ]
  },
  {
   "cell_type": "code",
   "execution_count": 49,
   "metadata": {},
   "outputs": [
    {
     "name": "stdout",
     "output_type": "stream",
     "text": [
      "training set의 크기: 112 , test set의 크기: 38\n",
      "최고 점수(모델 정확도):  0.973684210526\n",
      "최적 매개변수:  {'C': 100, 'gamma': 0.001}\n"
     ]
    }
   ],
   "source": [
    "iris = load_iris() # iris data\n",
    "X_train, X_test, y_train, y_test = train_test_split(\n",
    "    iris.data, iris.target, random_state=0) \n",
    "print(\"training set의 크기: %d , test set의 크기: %d\" % (\n",
    "    X_train.shape[0], X_test.shape[0]))\n",
    "# array.shape => array의 행과 열의 개수를 튜플로 반환\n",
    "\n",
    "best_score = 0\n",
    "\n",
    "for gamma in [0.001, 0.01, 0.1, 1, 10, 100]:    \n",
    "    for C in [0.001, 0.01, 0.1, 1, 10, 100]:        \n",
    "        # 매개변수 각 조합에 대해 SVC 훈련\n",
    "        svm = SVC(gamma=gamma, C=C)\n",
    "        svm.fit(X_train, y_train)        \n",
    "        # test set으로 SVC 평가\n",
    "        score = svm.score(X_test, y_test)\n",
    "        # 점수가 더 높으면 기록\n",
    "        if score > best_score:\n",
    "            best_score = score\n",
    "            best_parameters = {'C': C, 'gamma': gamma}\n",
    "\n",
    "print(\"최고 점수(모델 정확도): \", best_score) \n",
    "print(\"최적 매개변수: \", best_parameters)"
   ]
  },
  {
   "cell_type": "markdown",
   "metadata": {},
   "source": [
    "### 매개변수 과대적합(overfitting)의 위험성과 evaluation set(검증 세트)\n",
    "\n",
    " 위 예시에서는 모델의 정확도가 97%임을 확인 할 수 있다. 하지만 이는 test set에 과대적합(overfitting)된 모델일 수 있다. 따라서 평각를 위해 모델을 만들 때 사용하지 않은 독립된 data set이 필요하다.\n",
    " \n",
    " 이를 위해 data set을 \n",
    " 1. training set   : 모델 만들기\n",
    " 2. validation set : 모델의 매개변수(모수) 선택\n",
    " 3. test set       : 선택된 매개변수(모수)의 성능 평가  \n",
    " \n",
    "3개의 set으로 나눈다."
   ]
  },
  {
   "cell_type": "code",
   "execution_count": 50,
   "metadata": {
    "collapsed": true
   },
   "outputs": [],
   "source": [
    "#anaconda prompt > \"pip install mglearn\"\n",
    "import mglearn\n",
    "import matplotlib.pyplot as plt"
   ]
  },
  {
   "cell_type": "code",
   "execution_count": 51,
   "metadata": {},
   "outputs": [
    {
     "name": "stdout",
     "output_type": "stream",
     "text": [
      "threefold_split\n"
     ]
    },
    {
     "data": {
      "image/png": "[encoded data removed]",
      "text/plain": [
       "<matplotlib.figure.Figure at 0x51aff4fe48>"
      ]
     },
     "metadata": {},
     "output_type": "display_data"
    }
   ],
   "source": [
    "print(\"threefold_split\")\n",
    "mglearn.plots.plot_threefold_split()\n",
    "plt.show()"
   ]
  },
  {
   "cell_type": "code",
   "execution_count": 52,
   "metadata": {},
   "outputs": [
    {
     "name": "stdout",
     "output_type": "stream",
     "text": [
      "Size of training set: 84  , size of validation set: 28  , size of test set: 38\n",
      "validation set에서 최고 점수:  0.964285714286\n",
      "최적 매개변수:  {'C': 10, 'gamma': 0.001}\n",
      "최적 매개변수에서 test set의 점수(모델 정확도):  0.921052631579\n"
     ]
    }
   ],
   "source": [
    "# 전체 data set을 (training + validation), test 셋으로 나눔\n",
    "X_trainval, X_test, y_trainval, y_test = train_test_split(iris.data, iris.target, random_state=0) \n",
    "# (training+validation) set을 training, validation 셋로 나눔 \n",
    "X_train, X_valid, y_train, y_valid = train_test_split(\n",
    "    X_trainval, y_trainval, random_state=1)\n",
    "print(\"Size of training set: %d  , size of validation set: %d  , size of test set: %d\" % (\n",
    "    X_train.shape[0], X_valid.shape[0], X_test.shape[0])) \n",
    "\n",
    "best_score = 0\n",
    "\n",
    "for gamma in [0.001, 0.01, 0.1, 1, 10, 100]:    \n",
    "    for C in [0.001, 0.01, 0.1, 1, 10, 100]:        \n",
    "        # 매개변수 각 조합에 대해 SVC 훈련    \n",
    "        svm = SVC(gamma=gamma, C=C)\n",
    "        # train set으로 model fitting\n",
    "        svm.fit(X_train, y_train)\n",
    "        # validation set으로 SVC 평가         \n",
    "        score = svm.score(X_valid, y_valid)        \n",
    "        # 점수가 더 높으면 기록 \n",
    "        if score > best_score:\n",
    "            best_score = score\n",
    "            best_parameters = {'C': C, 'gamma': gamma}\n",
    "\n",
    "# training set과 validation set을 합쳐 모델을 다시 만든 후 \n",
    "# test set을 이용하여 모델을 평가\n",
    "svm = SVC(**best_parameters) \n",
    "svm.fit(X_trainval, y_trainval) \n",
    "test_score = svm.score(X_test, y_test) \n",
    "print(\"validation set에서 최고 점수: \", best_score) \n",
    "print(\"최적 매개변수: \", best_parameters) \n",
    "print(\"최적 매개변수에서 test set의 점수(모델 정확도): \", test_score)"
   ]
  },
  {
   "cell_type": "markdown",
   "metadata": {},
   "source": [
    " validation set의 정확도는 약 96.4%으로 앞의 결과보다 약간 낮아짐. ( 데이터를 한번 더 나누기 때문에 X.train 이 더 작음 )  \n",
    " 실제 봐야하는 모델 정확도는 이보다 더 작은 약 92.1%이다."
   ]
  },
  {
   "cell_type": "markdown",
   "metadata": {},
   "source": [
    "### 교차 검증을 이용한 grid search"
   ]
  },
  {
   "cell_type": "markdown",
   "metadata": {},
   "source": [
    "  더 향상된 성능을 위해 단순히 training, validation set으로 나누는 것이 아니라 교차 검증(cross-validation)을 이용하여 매개변수간 결합을 평가한다."
   ]
  },
  {
   "cell_type": "code",
   "execution_count": 53,
   "metadata": {
    "collapsed": true
   },
   "outputs": [],
   "source": [
    "from sklearn.model_selection import cross_val_score\n",
    "import numpy as np"
   ]
  },
  {
   "cell_type": "code",
   "execution_count": 54,
   "metadata": {},
   "outputs": [
    {
     "data": {
      "text/plain": [
       "SVC(C=100, cache_size=200, class_weight=None, coef0=0.0,\n",
       "  decision_function_shape=None, degree=3, gamma=0.01, kernel='rbf',\n",
       "  max_iter=-1, probability=False, random_state=None, shrinking=True,\n",
       "  tol=0.001, verbose=False)"
      ]
     },
     "execution_count": 54,
     "metadata": {},
     "output_type": "execute_result"
    }
   ],
   "source": [
    "for gamma in [0.001, 0.01, 0.1, 1, 10, 100]:\n",
    "    for C in [0.001, 0.01, 0.1, 1, 10, 100]:\n",
    "        # 매개변수 각 조합에 대해 SVC 훈련         \n",
    "        svm = SVC(gamma=gamma, C=C)\n",
    "        # k = 5인 교차 검증 수행\n",
    "        scores = cross_val_score(svm, X_trainval, y_trainval, cv=5)\n",
    "        # 교차 검증 정확도의 평균을 구함\n",
    "        score = np.mean(scores)\n",
    "        # 점수가 더 높으면 기록 \n",
    "        if score > best_score:\n",
    "            best_score = score\n",
    "            best_parameters = {'C': C, 'gamma': gamma} \n",
    "# 구해진 최적 매개변수를 가지고 training set과 validation set을 합쳐서 다시 모델을 만든다.\n",
    "svm = SVC(**best_parameters) \n",
    "svm.fit(X_trainval, y_trainval)"
   ]
  },
  {
   "cell_type": "markdown",
   "metadata": {},
   "source": [
    " k = 5인 교차검정으로 C와 gamma(각각 6개의 후보 변수)에 대한 SVM 정확도를 평가하려면 36*5 = 180개의 모델을 만들어야 하기 때문에 이 모델들을 모두 학습시키는데 시간이 오래 소요된다는 단점이 있다."
   ]
  },
  {
   "cell_type": "code",
   "execution_count": 55,
   "metadata": {},
   "outputs": [
    {
     "data": {
      "image/png": "[encoded data removed]",
      "text/plain": [
       "<matplotlib.figure.Figure at 0x51afd3cf28>"
      ]
     },
     "metadata": {},
     "output_type": "display_data"
    }
   ],
   "source": [
    "mglearn.plots.plot_cross_val_selection()\n",
    "plt.show()"
   ]
  },
  {
   "cell_type": "markdown",
   "metadata": {},
   "source": [
    "매개변수 선택에 따라서 k = 5에 따른 모델 정확도가 어떤지, 최적 매개변수 조합은 무엇인지 시각화 함\n",
    "( 일부만 나타남, 전체 나타나게 하는 코드 x)"
   ]
  },
  {
   "cell_type": "markdown",
   "metadata": {},
   "source": [
    "교차 검증을 이용한 grid serach는 많이 사용되므로 scikit-learn은 이를 사용 할 수 있는 **GirdSearchCV**를 이용한다.\n",
    "- 이 class를 이용하기 위해 dictionary를 이용서 매개변수를 지정해야 한다.\n",
    "- key는 매개변수의 이름( ex. 'gamma', 'C') , value는 검증하고 싶은 매개변수 값(0.001, 0.01, ..., 1, 10) 이다."
   ]
  },
  {
   "cell_type": "code",
   "execution_count": 56,
   "metadata": {},
   "outputs": [
    {
     "data": {
      "text/plain": [
       "{'C': [0.001, 0.01, 0.1, 1, 10, 100], 'gamma': [0.001, 0.01, 0.1, 1, 10, 100]}"
      ]
     },
     "execution_count": 56,
     "metadata": {},
     "output_type": "execute_result"
    }
   ],
   "source": [
    "param_grid = {'C': [0.001, 0.01, 0.1, 1, 10, 100],\n",
    "              'gamma': [0.001, 0.01, 0.1, 1, 10, 100]} \n",
    "param_grid"
   ]
  },
  {
   "cell_type": "markdown",
   "metadata": {},
   "source": [
    "매개변수가 param_grid의 key인 k=5인 교차검증을 GridSearchCV를 적용한다."
   ]
  },
  {
   "cell_type": "code",
   "execution_count": 57,
   "metadata": {
    "collapsed": true
   },
   "outputs": [],
   "source": [
    "from sklearn.model_selection import GridSearchCV"
   ]
  },
  {
   "cell_type": "code",
   "execution_count": 58,
   "metadata": {},
   "outputs": [
    {
     "name": "stdout",
     "output_type": "stream",
     "text": [
      "최적 매개변수 :  {'C': 100, 'gamma': 0.01}\n",
      "최상 교차검증 점수 :  0.973214285714\n",
      "최고 성능 모델 :  SVC(C=100, cache_size=200, class_weight=None, coef0=0.0,\n",
      "  decision_function_shape=None, degree=3, gamma=0.01, kernel='rbf',\n",
      "  max_iter=-1, probability=False, random_state=None, shrinking=True,\n",
      "  tol=0.001, verbose=False)\n"
     ]
    }
   ],
   "source": [
    "from sklearn.svm import SVC \n",
    "grid_search = GridSearchCV(SVC(), param_grid, cv=5)\n",
    "\n",
    "# overfitting 방지를 위해 training, test set으로 나눔\n",
    "X_train, X_test, y_train, y_test = train_test_split(\n",
    "    iris.data, iris.target, random_state=0) \n",
    "grid_search.fit(X_train, y_train)\n",
    "\n",
    "print(\"최적 매개변수 : \",grid_search.best_params_) \n",
    "print(\"최상 교차검증 점수 : \",grid_search.best_score_)\n",
    "print(\"최고 성능 모델 : \",grid_search.best_estimator_)"
   ]
  },
  {
   "cell_type": "markdown",
   "metadata": {},
   "source": [
    "### 교차검증 분석하기"
   ]
  },
  {
   "cell_type": "markdown",
   "metadata": {},
   "source": [
    " 교차 검증의 결과를 시각화하면 매개변수가 모델의 일반화(generalizing)에 얼마나 영향을 주는지 이해할 수 있다. grid search는 연산 비용이 크므로 적은 수의 grid에서 결과를 분석하여 검색을 확장하여 나간다. \n",
    "  상세 정보가 많이 들어가므로 DataFrame(by pandas)으로 변환하여 보는 것이 좋다."
   ]
  },
  {
   "cell_type": "code",
   "execution_count": 59,
   "metadata": {
    "collapsed": true
   },
   "outputs": [],
   "source": [
    "import pandas as pd\n",
    "from IPython.display import display "
   ]
  },
  {
   "cell_type": "code",
   "execution_count": 60,
   "metadata": {},
   "outputs": [
    {
     "data": {
      "text/html": [
       "<div>\n",
       "<style>\n",
       "    .dataframe thead tr:only-child th {\n",
       "        text-align: right;\n",
       "    }\n",
       "\n",
       "    .dataframe thead th {\n",
       "        text-align: left;\n",
       "    }\n",
       "\n",
       "    .dataframe tbody tr th {\n",
       "        vertical-align: top;\n",
       "    }\n",
       "</style>\n",
       "<table border=\"1\" class=\"dataframe\">\n",
       "  <thead>\n",
       "    <tr style=\"text-align: right;\">\n",
       "      <th></th>\n",
       "      <th>mean_fit_time</th>\n",
       "      <th>mean_score_time</th>\n",
       "      <th>mean_test_score</th>\n",
       "      <th>mean_train_score</th>\n",
       "      <th>param_C</th>\n",
       "      <th>param_gamma</th>\n",
       "      <th>params</th>\n",
       "      <th>rank_test_score</th>\n",
       "      <th>split0_test_score</th>\n",
       "      <th>split0_train_score</th>\n",
       "      <th>...</th>\n",
       "      <th>split2_test_score</th>\n",
       "      <th>split2_train_score</th>\n",
       "      <th>split3_test_score</th>\n",
       "      <th>split3_train_score</th>\n",
       "      <th>split4_test_score</th>\n",
       "      <th>split4_train_score</th>\n",
       "      <th>std_fit_time</th>\n",
       "      <th>std_score_time</th>\n",
       "      <th>std_test_score</th>\n",
       "      <th>std_train_score</th>\n",
       "    </tr>\n",
       "  </thead>\n",
       "  <tbody>\n",
       "    <tr>\n",
       "      <th>0</th>\n",
       "      <td>0.001201</td>\n",
       "      <td>0.000200</td>\n",
       "      <td>0.366071</td>\n",
       "      <td>0.366079</td>\n",
       "      <td>0.001</td>\n",
       "      <td>0.001</td>\n",
       "      <td>{'C': 0.001, 'gamma': 0.001}</td>\n",
       "      <td>22</td>\n",
       "      <td>0.375000</td>\n",
       "      <td>0.363636</td>\n",
       "      <td>...</td>\n",
       "      <td>0.363636</td>\n",
       "      <td>0.366667</td>\n",
       "      <td>0.363636</td>\n",
       "      <td>0.366667</td>\n",
       "      <td>0.380952</td>\n",
       "      <td>0.362637</td>\n",
       "      <td>4.001861e-04</td>\n",
       "      <td>0.000400</td>\n",
       "      <td>0.011371</td>\n",
       "      <td>0.002852</td>\n",
       "    </tr>\n",
       "    <tr>\n",
       "      <th>1</th>\n",
       "      <td>0.001000</td>\n",
       "      <td>0.000400</td>\n",
       "      <td>0.366071</td>\n",
       "      <td>0.366079</td>\n",
       "      <td>0.001</td>\n",
       "      <td>0.01</td>\n",
       "      <td>{'C': 0.001, 'gamma': 0.01}</td>\n",
       "      <td>22</td>\n",
       "      <td>0.375000</td>\n",
       "      <td>0.363636</td>\n",
       "      <td>...</td>\n",
       "      <td>0.363636</td>\n",
       "      <td>0.366667</td>\n",
       "      <td>0.363636</td>\n",
       "      <td>0.366667</td>\n",
       "      <td>0.380952</td>\n",
       "      <td>0.362637</td>\n",
       "      <td>1.061967e-06</td>\n",
       "      <td>0.000490</td>\n",
       "      <td>0.011371</td>\n",
       "      <td>0.002852</td>\n",
       "    </tr>\n",
       "    <tr>\n",
       "      <th>2</th>\n",
       "      <td>0.001004</td>\n",
       "      <td>0.000801</td>\n",
       "      <td>0.366071</td>\n",
       "      <td>0.366079</td>\n",
       "      <td>0.001</td>\n",
       "      <td>0.1</td>\n",
       "      <td>{'C': 0.001, 'gamma': 0.1}</td>\n",
       "      <td>22</td>\n",
       "      <td>0.375000</td>\n",
       "      <td>0.363636</td>\n",
       "      <td>...</td>\n",
       "      <td>0.363636</td>\n",
       "      <td>0.366667</td>\n",
       "      <td>0.363636</td>\n",
       "      <td>0.366667</td>\n",
       "      <td>0.380952</td>\n",
       "      <td>0.362637</td>\n",
       "      <td>7.742696e-06</td>\n",
       "      <td>0.000400</td>\n",
       "      <td>0.011371</td>\n",
       "      <td>0.002852</td>\n",
       "    </tr>\n",
       "    <tr>\n",
       "      <th>3</th>\n",
       "      <td>0.000000</td>\n",
       "      <td>0.000800</td>\n",
       "      <td>0.366071</td>\n",
       "      <td>0.366079</td>\n",
       "      <td>0.001</td>\n",
       "      <td>1</td>\n",
       "      <td>{'C': 0.001, 'gamma': 1}</td>\n",
       "      <td>22</td>\n",
       "      <td>0.375000</td>\n",
       "      <td>0.363636</td>\n",
       "      <td>...</td>\n",
       "      <td>0.363636</td>\n",
       "      <td>0.366667</td>\n",
       "      <td>0.363636</td>\n",
       "      <td>0.366667</td>\n",
       "      <td>0.380952</td>\n",
       "      <td>0.362637</td>\n",
       "      <td>0.000000e+00</td>\n",
       "      <td>0.000400</td>\n",
       "      <td>0.011371</td>\n",
       "      <td>0.002852</td>\n",
       "    </tr>\n",
       "    <tr>\n",
       "      <th>4</th>\n",
       "      <td>0.001206</td>\n",
       "      <td>0.000200</td>\n",
       "      <td>0.366071</td>\n",
       "      <td>0.366079</td>\n",
       "      <td>0.001</td>\n",
       "      <td>10</td>\n",
       "      <td>{'C': 0.001, 'gamma': 10}</td>\n",
       "      <td>22</td>\n",
       "      <td>0.375000</td>\n",
       "      <td>0.363636</td>\n",
       "      <td>...</td>\n",
       "      <td>0.363636</td>\n",
       "      <td>0.366667</td>\n",
       "      <td>0.363636</td>\n",
       "      <td>0.366667</td>\n",
       "      <td>0.380952</td>\n",
       "      <td>0.362637</td>\n",
       "      <td>4.001321e-04</td>\n",
       "      <td>0.000401</td>\n",
       "      <td>0.011371</td>\n",
       "      <td>0.002852</td>\n",
       "    </tr>\n",
       "    <tr>\n",
       "      <th>5</th>\n",
       "      <td>0.001001</td>\n",
       "      <td>0.000200</td>\n",
       "      <td>0.366071</td>\n",
       "      <td>0.366079</td>\n",
       "      <td>0.001</td>\n",
       "      <td>100</td>\n",
       "      <td>{'C': 0.001, 'gamma': 100}</td>\n",
       "      <td>22</td>\n",
       "      <td>0.375000</td>\n",
       "      <td>0.363636</td>\n",
       "      <td>...</td>\n",
       "      <td>0.363636</td>\n",
       "      <td>0.366667</td>\n",
       "      <td>0.363636</td>\n",
       "      <td>0.366667</td>\n",
       "      <td>0.380952</td>\n",
       "      <td>0.362637</td>\n",
       "      <td>9.702201e-07</td>\n",
       "      <td>0.000400</td>\n",
       "      <td>0.011371</td>\n",
       "      <td>0.002852</td>\n",
       "    </tr>\n",
       "    <tr>\n",
       "      <th>6</th>\n",
       "      <td>0.000605</td>\n",
       "      <td>0.000602</td>\n",
       "      <td>0.366071</td>\n",
       "      <td>0.366079</td>\n",
       "      <td>0.01</td>\n",
       "      <td>0.001</td>\n",
       "      <td>{'C': 0.01, 'gamma': 0.001}</td>\n",
       "      <td>22</td>\n",
       "      <td>0.375000</td>\n",
       "      <td>0.363636</td>\n",
       "      <td>...</td>\n",
       "      <td>0.363636</td>\n",
       "      <td>0.366667</td>\n",
       "      <td>0.363636</td>\n",
       "      <td>0.366667</td>\n",
       "      <td>0.380952</td>\n",
       "      <td>0.362637</td>\n",
       "      <td>4.939594e-04</td>\n",
       "      <td>0.000492</td>\n",
       "      <td>0.011371</td>\n",
       "      <td>0.002852</td>\n",
       "    </tr>\n",
       "    <tr>\n",
       "      <th>7</th>\n",
       "      <td>0.000601</td>\n",
       "      <td>0.000200</td>\n",
       "      <td>0.366071</td>\n",
       "      <td>0.366079</td>\n",
       "      <td>0.01</td>\n",
       "      <td>0.01</td>\n",
       "      <td>{'C': 0.01, 'gamma': 0.01}</td>\n",
       "      <td>22</td>\n",
       "      <td>0.375000</td>\n",
       "      <td>0.363636</td>\n",
       "      <td>...</td>\n",
       "      <td>0.363636</td>\n",
       "      <td>0.366667</td>\n",
       "      <td>0.363636</td>\n",
       "      <td>0.366667</td>\n",
       "      <td>0.380952</td>\n",
       "      <td>0.362637</td>\n",
       "      <td>4.904465e-04</td>\n",
       "      <td>0.000400</td>\n",
       "      <td>0.011371</td>\n",
       "      <td>0.002852</td>\n",
       "    </tr>\n",
       "    <tr>\n",
       "      <th>8</th>\n",
       "      <td>0.001001</td>\n",
       "      <td>0.000000</td>\n",
       "      <td>0.366071</td>\n",
       "      <td>0.366079</td>\n",
       "      <td>0.01</td>\n",
       "      <td>0.1</td>\n",
       "      <td>{'C': 0.01, 'gamma': 0.1}</td>\n",
       "      <td>22</td>\n",
       "      <td>0.375000</td>\n",
       "      <td>0.363636</td>\n",
       "      <td>...</td>\n",
       "      <td>0.363636</td>\n",
       "      <td>0.366667</td>\n",
       "      <td>0.363636</td>\n",
       "      <td>0.366667</td>\n",
       "      <td>0.380952</td>\n",
       "      <td>0.362637</td>\n",
       "      <td>1.784161e-07</td>\n",
       "      <td>0.000000</td>\n",
       "      <td>0.011371</td>\n",
       "      <td>0.002852</td>\n",
       "    </tr>\n",
       "    <tr>\n",
       "      <th>9</th>\n",
       "      <td>0.001001</td>\n",
       "      <td>0.000000</td>\n",
       "      <td>0.366071</td>\n",
       "      <td>0.366079</td>\n",
       "      <td>0.01</td>\n",
       "      <td>1</td>\n",
       "      <td>{'C': 0.01, 'gamma': 1}</td>\n",
       "      <td>22</td>\n",
       "      <td>0.375000</td>\n",
       "      <td>0.363636</td>\n",
       "      <td>...</td>\n",
       "      <td>0.363636</td>\n",
       "      <td>0.366667</td>\n",
       "      <td>0.363636</td>\n",
       "      <td>0.366667</td>\n",
       "      <td>0.380952</td>\n",
       "      <td>0.362637</td>\n",
       "      <td>6.843901e-07</td>\n",
       "      <td>0.000000</td>\n",
       "      <td>0.011371</td>\n",
       "      <td>0.002852</td>\n",
       "    </tr>\n",
       "    <tr>\n",
       "      <th>10</th>\n",
       "      <td>0.000997</td>\n",
       "      <td>0.000000</td>\n",
       "      <td>0.366071</td>\n",
       "      <td>0.366079</td>\n",
       "      <td>0.01</td>\n",
       "      <td>10</td>\n",
       "      <td>{'C': 0.01, 'gamma': 10}</td>\n",
       "      <td>22</td>\n",
       "      <td>0.375000</td>\n",
       "      <td>0.363636</td>\n",
       "      <td>...</td>\n",
       "      <td>0.363636</td>\n",
       "      <td>0.366667</td>\n",
       "      <td>0.363636</td>\n",
       "      <td>0.366667</td>\n",
       "      <td>0.380952</td>\n",
       "      <td>0.362637</td>\n",
       "      <td>6.710371e-06</td>\n",
       "      <td>0.000000</td>\n",
       "      <td>0.011371</td>\n",
       "      <td>0.002852</td>\n",
       "    </tr>\n",
       "    <tr>\n",
       "      <th>11</th>\n",
       "      <td>0.001001</td>\n",
       "      <td>0.000200</td>\n",
       "      <td>0.366071</td>\n",
       "      <td>0.366079</td>\n",
       "      <td>0.01</td>\n",
       "      <td>100</td>\n",
       "      <td>{'C': 0.01, 'gamma': 100}</td>\n",
       "      <td>22</td>\n",
       "      <td>0.375000</td>\n",
       "      <td>0.363636</td>\n",
       "      <td>...</td>\n",
       "      <td>0.363636</td>\n",
       "      <td>0.366667</td>\n",
       "      <td>0.363636</td>\n",
       "      <td>0.366667</td>\n",
       "      <td>0.380952</td>\n",
       "      <td>0.362637</td>\n",
       "      <td>1.101318e-05</td>\n",
       "      <td>0.000400</td>\n",
       "      <td>0.011371</td>\n",
       "      <td>0.002852</td>\n",
       "    </tr>\n",
       "    <tr>\n",
       "      <th>12</th>\n",
       "      <td>0.000600</td>\n",
       "      <td>0.000000</td>\n",
       "      <td>0.366071</td>\n",
       "      <td>0.366079</td>\n",
       "      <td>0.1</td>\n",
       "      <td>0.001</td>\n",
       "      <td>{'C': 0.1, 'gamma': 0.001}</td>\n",
       "      <td>22</td>\n",
       "      <td>0.375000</td>\n",
       "      <td>0.363636</td>\n",
       "      <td>...</td>\n",
       "      <td>0.363636</td>\n",
       "      <td>0.366667</td>\n",
       "      <td>0.363636</td>\n",
       "      <td>0.366667</td>\n",
       "      <td>0.380952</td>\n",
       "      <td>0.362637</td>\n",
       "      <td>4.902518e-04</td>\n",
       "      <td>0.000000</td>\n",
       "      <td>0.011371</td>\n",
       "      <td>0.002852</td>\n",
       "    </tr>\n",
       "    <tr>\n",
       "      <th>13</th>\n",
       "      <td>0.000602</td>\n",
       "      <td>0.000200</td>\n",
       "      <td>0.696429</td>\n",
       "      <td>0.696424</td>\n",
       "      <td>0.1</td>\n",
       "      <td>0.01</td>\n",
       "      <td>{'C': 0.1, 'gamma': 0.01}</td>\n",
       "      <td>17</td>\n",
       "      <td>0.708333</td>\n",
       "      <td>0.693182</td>\n",
       "      <td>...</td>\n",
       "      <td>0.681818</td>\n",
       "      <td>0.700000</td>\n",
       "      <td>0.681818</td>\n",
       "      <td>0.700000</td>\n",
       "      <td>0.714286</td>\n",
       "      <td>0.692308</td>\n",
       "      <td>4.913516e-04</td>\n",
       "      <td>0.000400</td>\n",
       "      <td>0.013196</td>\n",
       "      <td>0.003258</td>\n",
       "    </tr>\n",
       "    <tr>\n",
       "      <th>14</th>\n",
       "      <td>0.000801</td>\n",
       "      <td>0.000000</td>\n",
       "      <td>0.919643</td>\n",
       "      <td>0.919744</td>\n",
       "      <td>0.1</td>\n",
       "      <td>0.1</td>\n",
       "      <td>{'C': 0.1, 'gamma': 0.1}</td>\n",
       "      <td>13</td>\n",
       "      <td>0.916667</td>\n",
       "      <td>0.943182</td>\n",
       "      <td>...</td>\n",
       "      <td>1.000000</td>\n",
       "      <td>0.900000</td>\n",
       "      <td>0.863636</td>\n",
       "      <td>0.888889</td>\n",
       "      <td>0.904762</td>\n",
       "      <td>0.934066</td>\n",
       "      <td>4.003526e-04</td>\n",
       "      <td>0.000000</td>\n",
       "      <td>0.044010</td>\n",
       "      <td>0.021266</td>\n",
       "    </tr>\n",
       "    <tr>\n",
       "      <th>15</th>\n",
       "      <td>0.000600</td>\n",
       "      <td>0.000200</td>\n",
       "      <td>0.955357</td>\n",
       "      <td>0.959846</td>\n",
       "      <td>0.1</td>\n",
       "      <td>1</td>\n",
       "      <td>{'C': 0.1, 'gamma': 1}</td>\n",
       "      <td>6</td>\n",
       "      <td>1.000000</td>\n",
       "      <td>0.954545</td>\n",
       "      <td>...</td>\n",
       "      <td>1.000000</td>\n",
       "      <td>0.944444</td>\n",
       "      <td>0.909091</td>\n",
       "      <td>0.966667</td>\n",
       "      <td>0.952381</td>\n",
       "      <td>0.956044</td>\n",
       "      <td>4.901740e-04</td>\n",
       "      <td>0.000400</td>\n",
       "      <td>0.040104</td>\n",
       "      <td>0.011304</td>\n",
       "    </tr>\n",
       "    <tr>\n",
       "      <th>16</th>\n",
       "      <td>0.001001</td>\n",
       "      <td>0.000000</td>\n",
       "      <td>0.366071</td>\n",
       "      <td>0.381710</td>\n",
       "      <td>0.1</td>\n",
       "      <td>10</td>\n",
       "      <td>{'C': 0.1, 'gamma': 10}</td>\n",
       "      <td>22</td>\n",
       "      <td>0.375000</td>\n",
       "      <td>0.375000</td>\n",
       "      <td>...</td>\n",
       "      <td>0.363636</td>\n",
       "      <td>0.366667</td>\n",
       "      <td>0.363636</td>\n",
       "      <td>0.422222</td>\n",
       "      <td>0.380952</td>\n",
       "      <td>0.362637</td>\n",
       "      <td>3.814697e-07</td>\n",
       "      <td>0.000000</td>\n",
       "      <td>0.011371</td>\n",
       "      <td>0.021337</td>\n",
       "    </tr>\n",
       "    <tr>\n",
       "      <th>17</th>\n",
       "      <td>0.000997</td>\n",
       "      <td>0.000608</td>\n",
       "      <td>0.366071</td>\n",
       "      <td>0.366079</td>\n",
       "      <td>0.1</td>\n",
       "      <td>100</td>\n",
       "      <td>{'C': 0.1, 'gamma': 100}</td>\n",
       "      <td>22</td>\n",
       "      <td>0.375000</td>\n",
       "      <td>0.363636</td>\n",
       "      <td>...</td>\n",
       "      <td>0.363636</td>\n",
       "      <td>0.366667</td>\n",
       "      <td>0.363636</td>\n",
       "      <td>0.366667</td>\n",
       "      <td>0.380952</td>\n",
       "      <td>0.362637</td>\n",
       "      <td>6.314087e-06</td>\n",
       "      <td>0.000496</td>\n",
       "      <td>0.011371</td>\n",
       "      <td>0.002852</td>\n",
       "    </tr>\n",
       "    <tr>\n",
       "      <th>18</th>\n",
       "      <td>0.000600</td>\n",
       "      <td>0.000400</td>\n",
       "      <td>0.696429</td>\n",
       "      <td>0.696424</td>\n",
       "      <td>1</td>\n",
       "      <td>0.001</td>\n",
       "      <td>{'C': 1, 'gamma': 0.001}</td>\n",
       "      <td>17</td>\n",
       "      <td>0.708333</td>\n",
       "      <td>0.693182</td>\n",
       "      <td>...</td>\n",
       "      <td>0.681818</td>\n",
       "      <td>0.700000</td>\n",
       "      <td>0.681818</td>\n",
       "      <td>0.700000</td>\n",
       "      <td>0.714286</td>\n",
       "      <td>0.692308</td>\n",
       "      <td>4.902518e-04</td>\n",
       "      <td>0.000491</td>\n",
       "      <td>0.013196</td>\n",
       "      <td>0.003258</td>\n",
       "    </tr>\n",
       "    <tr>\n",
       "      <th>19</th>\n",
       "      <td>0.000400</td>\n",
       "      <td>0.000200</td>\n",
       "      <td>0.928571</td>\n",
       "      <td>0.935325</td>\n",
       "      <td>1</td>\n",
       "      <td>0.01</td>\n",
       "      <td>{'C': 1, 'gamma': 0.01}</td>\n",
       "      <td>11</td>\n",
       "      <td>0.875000</td>\n",
       "      <td>0.943182</td>\n",
       "      <td>...</td>\n",
       "      <td>1.000000</td>\n",
       "      <td>0.922222</td>\n",
       "      <td>0.909091</td>\n",
       "      <td>0.933333</td>\n",
       "      <td>0.952381</td>\n",
       "      <td>0.934066</td>\n",
       "      <td>4.902129e-04</td>\n",
       "      <td>0.000401</td>\n",
       "      <td>0.042983</td>\n",
       "      <td>0.007888</td>\n",
       "    </tr>\n",
       "    <tr>\n",
       "      <th>20</th>\n",
       "      <td>0.000200</td>\n",
       "      <td>0.000400</td>\n",
       "      <td>0.964286</td>\n",
       "      <td>0.977650</td>\n",
       "      <td>1</td>\n",
       "      <td>0.1</td>\n",
       "      <td>{'C': 1, 'gamma': 0.1}</td>\n",
       "      <td>2</td>\n",
       "      <td>1.000000</td>\n",
       "      <td>0.965909</td>\n",
       "      <td>...</td>\n",
       "      <td>1.000000</td>\n",
       "      <td>0.966667</td>\n",
       "      <td>0.909091</td>\n",
       "      <td>0.988889</td>\n",
       "      <td>0.952381</td>\n",
       "      <td>0.978022</td>\n",
       "      <td>4.003525e-04</td>\n",
       "      <td>0.000490</td>\n",
       "      <td>0.034077</td>\n",
       "      <td>0.010084</td>\n",
       "    </tr>\n",
       "    <tr>\n",
       "      <th>21</th>\n",
       "      <td>0.000601</td>\n",
       "      <td>0.000000</td>\n",
       "      <td>0.946429</td>\n",
       "      <td>0.984393</td>\n",
       "      <td>1</td>\n",
       "      <td>1</td>\n",
       "      <td>{'C': 1, 'gamma': 1}</td>\n",
       "      <td>8</td>\n",
       "      <td>0.916667</td>\n",
       "      <td>0.988636</td>\n",
       "      <td>...</td>\n",
       "      <td>1.000000</td>\n",
       "      <td>0.977778</td>\n",
       "      <td>0.909091</td>\n",
       "      <td>1.000000</td>\n",
       "      <td>0.952381</td>\n",
       "      <td>0.978022</td>\n",
       "      <td>4.903297e-04</td>\n",
       "      <td>0.000000</td>\n",
       "      <td>0.032480</td>\n",
       "      <td>0.008866</td>\n",
       "    </tr>\n",
       "    <tr>\n",
       "      <th>22</th>\n",
       "      <td>0.000997</td>\n",
       "      <td>0.000201</td>\n",
       "      <td>0.919643</td>\n",
       "      <td>1.000000</td>\n",
       "      <td>1</td>\n",
       "      <td>10</td>\n",
       "      <td>{'C': 1, 'gamma': 10}</td>\n",
       "      <td>13</td>\n",
       "      <td>0.875000</td>\n",
       "      <td>1.000000</td>\n",
       "      <td>...</td>\n",
       "      <td>1.000000</td>\n",
       "      <td>1.000000</td>\n",
       "      <td>0.818182</td>\n",
       "      <td>1.000000</td>\n",
       "      <td>0.952381</td>\n",
       "      <td>1.000000</td>\n",
       "      <td>6.427581e-06</td>\n",
       "      <td>0.000402</td>\n",
       "      <td>0.064791</td>\n",
       "      <td>0.000000</td>\n",
       "    </tr>\n",
       "    <tr>\n",
       "      <th>23</th>\n",
       "      <td>0.000804</td>\n",
       "      <td>0.000400</td>\n",
       "      <td>0.508929</td>\n",
       "      <td>1.000000</td>\n",
       "      <td>1</td>\n",
       "      <td>100</td>\n",
       "      <td>{'C': 1, 'gamma': 100}</td>\n",
       "      <td>21</td>\n",
       "      <td>0.500000</td>\n",
       "      <td>1.000000</td>\n",
       "      <td>...</td>\n",
       "      <td>0.545455</td>\n",
       "      <td>1.000000</td>\n",
       "      <td>0.500000</td>\n",
       "      <td>1.000000</td>\n",
       "      <td>0.571429</td>\n",
       "      <td>1.000000</td>\n",
       "      <td>4.023021e-04</td>\n",
       "      <td>0.000490</td>\n",
       "      <td>0.046435</td>\n",
       "      <td>0.000000</td>\n",
       "    </tr>\n",
       "    <tr>\n",
       "      <th>24</th>\n",
       "      <td>0.000400</td>\n",
       "      <td>0.000200</td>\n",
       "      <td>0.928571</td>\n",
       "      <td>0.935325</td>\n",
       "      <td>10</td>\n",
       "      <td>0.001</td>\n",
       "      <td>{'C': 10, 'gamma': 0.001}</td>\n",
       "      <td>11</td>\n",
       "      <td>0.875000</td>\n",
       "      <td>0.943182</td>\n",
       "      <td>...</td>\n",
       "      <td>1.000000</td>\n",
       "      <td>0.922222</td>\n",
       "      <td>0.909091</td>\n",
       "      <td>0.933333</td>\n",
       "      <td>0.952381</td>\n",
       "      <td>0.934066</td>\n",
       "      <td>4.905050e-04</td>\n",
       "      <td>0.000401</td>\n",
       "      <td>0.042983</td>\n",
       "      <td>0.007888</td>\n",
       "    </tr>\n",
       "    <tr>\n",
       "      <th>25</th>\n",
       "      <td>0.000597</td>\n",
       "      <td>0.000200</td>\n",
       "      <td>0.964286</td>\n",
       "      <td>0.977676</td>\n",
       "      <td>10</td>\n",
       "      <td>0.01</td>\n",
       "      <td>{'C': 10, 'gamma': 0.01}</td>\n",
       "      <td>2</td>\n",
       "      <td>1.000000</td>\n",
       "      <td>0.977273</td>\n",
       "      <td>...</td>\n",
       "      <td>1.000000</td>\n",
       "      <td>0.966667</td>\n",
       "      <td>0.909091</td>\n",
       "      <td>0.988889</td>\n",
       "      <td>0.952381</td>\n",
       "      <td>0.978022</td>\n",
       "      <td>4.874861e-04</td>\n",
       "      <td>0.000400</td>\n",
       "      <td>0.034077</td>\n",
       "      <td>0.007032</td>\n",
       "    </tr>\n",
       "    <tr>\n",
       "      <th>26</th>\n",
       "      <td>0.000404</td>\n",
       "      <td>0.000200</td>\n",
       "      <td>0.964286</td>\n",
       "      <td>0.986566</td>\n",
       "      <td>10</td>\n",
       "      <td>0.1</td>\n",
       "      <td>{'C': 10, 'gamma': 0.1}</td>\n",
       "      <td>2</td>\n",
       "      <td>0.958333</td>\n",
       "      <td>0.988636</td>\n",
       "      <td>...</td>\n",
       "      <td>1.000000</td>\n",
       "      <td>0.977778</td>\n",
       "      <td>0.954545</td>\n",
       "      <td>0.988889</td>\n",
       "      <td>0.952381</td>\n",
       "      <td>1.000000</td>\n",
       "      <td>4.945626e-04</td>\n",
       "      <td>0.000400</td>\n",
       "      <td>0.017769</td>\n",
       "      <td>0.008355</td>\n",
       "    </tr>\n",
       "    <tr>\n",
       "      <th>27</th>\n",
       "      <td>0.000601</td>\n",
       "      <td>0.000000</td>\n",
       "      <td>0.937500</td>\n",
       "      <td>0.986591</td>\n",
       "      <td>10</td>\n",
       "      <td>1</td>\n",
       "      <td>{'C': 10, 'gamma': 1}</td>\n",
       "      <td>10</td>\n",
       "      <td>0.916667</td>\n",
       "      <td>0.988636</td>\n",
       "      <td>...</td>\n",
       "      <td>1.000000</td>\n",
       "      <td>0.977778</td>\n",
       "      <td>0.863636</td>\n",
       "      <td>1.000000</td>\n",
       "      <td>0.952381</td>\n",
       "      <td>0.989011</td>\n",
       "      <td>4.903297e-04</td>\n",
       "      <td>0.000000</td>\n",
       "      <td>0.045253</td>\n",
       "      <td>0.008362</td>\n",
       "    </tr>\n",
       "    <tr>\n",
       "      <th>28</th>\n",
       "      <td>0.001001</td>\n",
       "      <td>0.000000</td>\n",
       "      <td>0.919643</td>\n",
       "      <td>1.000000</td>\n",
       "      <td>10</td>\n",
       "      <td>10</td>\n",
       "      <td>{'C': 10, 'gamma': 10}</td>\n",
       "      <td>13</td>\n",
       "      <td>0.875000</td>\n",
       "      <td>1.000000</td>\n",
       "      <td>...</td>\n",
       "      <td>1.000000</td>\n",
       "      <td>1.000000</td>\n",
       "      <td>0.818182</td>\n",
       "      <td>1.000000</td>\n",
       "      <td>0.952381</td>\n",
       "      <td>1.000000</td>\n",
       "      <td>3.989506e-07</td>\n",
       "      <td>0.000000</td>\n",
       "      <td>0.064791</td>\n",
       "      <td>0.000000</td>\n",
       "    </tr>\n",
       "    <tr>\n",
       "      <th>29</th>\n",
       "      <td>0.001003</td>\n",
       "      <td>0.000200</td>\n",
       "      <td>0.562500</td>\n",
       "      <td>1.000000</td>\n",
       "      <td>10</td>\n",
       "      <td>100</td>\n",
       "      <td>{'C': 10, 'gamma': 100}</td>\n",
       "      <td>19</td>\n",
       "      <td>0.541667</td>\n",
       "      <td>1.000000</td>\n",
       "      <td>...</td>\n",
       "      <td>0.590909</td>\n",
       "      <td>1.000000</td>\n",
       "      <td>0.590909</td>\n",
       "      <td>1.000000</td>\n",
       "      <td>0.619048</td>\n",
       "      <td>1.000000</td>\n",
       "      <td>8.649831e-06</td>\n",
       "      <td>0.000400</td>\n",
       "      <td>0.049668</td>\n",
       "      <td>0.000000</td>\n",
       "    </tr>\n",
       "    <tr>\n",
       "      <th>30</th>\n",
       "      <td>0.000400</td>\n",
       "      <td>0.000200</td>\n",
       "      <td>0.964286</td>\n",
       "      <td>0.977676</td>\n",
       "      <td>100</td>\n",
       "      <td>0.001</td>\n",
       "      <td>{'C': 100, 'gamma': 0.001}</td>\n",
       "      <td>2</td>\n",
       "      <td>1.000000</td>\n",
       "      <td>0.977273</td>\n",
       "      <td>...</td>\n",
       "      <td>1.000000</td>\n",
       "      <td>0.966667</td>\n",
       "      <td>0.909091</td>\n",
       "      <td>0.988889</td>\n",
       "      <td>0.952381</td>\n",
       "      <td>0.978022</td>\n",
       "      <td>4.902713e-04</td>\n",
       "      <td>0.000400</td>\n",
       "      <td>0.034077</td>\n",
       "      <td>0.007032</td>\n",
       "    </tr>\n",
       "    <tr>\n",
       "      <th>31</th>\n",
       "      <td>0.000400</td>\n",
       "      <td>0.000400</td>\n",
       "      <td>0.973214</td>\n",
       "      <td>0.984368</td>\n",
       "      <td>100</td>\n",
       "      <td>0.01</td>\n",
       "      <td>{'C': 100, 'gamma': 0.01}</td>\n",
       "      <td>1</td>\n",
       "      <td>1.000000</td>\n",
       "      <td>0.988636</td>\n",
       "      <td>...</td>\n",
       "      <td>1.000000</td>\n",
       "      <td>0.977778</td>\n",
       "      <td>0.954545</td>\n",
       "      <td>0.988889</td>\n",
       "      <td>0.952381</td>\n",
       "      <td>0.989011</td>\n",
       "      <td>4.902713e-04</td>\n",
       "      <td>0.000490</td>\n",
       "      <td>0.022400</td>\n",
       "      <td>0.005485</td>\n",
       "    </tr>\n",
       "    <tr>\n",
       "      <th>32</th>\n",
       "      <td>0.000400</td>\n",
       "      <td>0.000200</td>\n",
       "      <td>0.955357</td>\n",
       "      <td>0.988788</td>\n",
       "      <td>100</td>\n",
       "      <td>0.1</td>\n",
       "      <td>{'C': 100, 'gamma': 0.1}</td>\n",
       "      <td>6</td>\n",
       "      <td>0.958333</td>\n",
       "      <td>0.988636</td>\n",
       "      <td>...</td>\n",
       "      <td>1.000000</td>\n",
       "      <td>0.977778</td>\n",
       "      <td>0.863636</td>\n",
       "      <td>1.000000</td>\n",
       "      <td>0.952381</td>\n",
       "      <td>1.000000</td>\n",
       "      <td>4.903881e-04</td>\n",
       "      <td>0.000400</td>\n",
       "      <td>0.049566</td>\n",
       "      <td>0.009995</td>\n",
       "    </tr>\n",
       "    <tr>\n",
       "      <th>33</th>\n",
       "      <td>0.000400</td>\n",
       "      <td>0.000400</td>\n",
       "      <td>0.946429</td>\n",
       "      <td>1.000000</td>\n",
       "      <td>100</td>\n",
       "      <td>1</td>\n",
       "      <td>{'C': 100, 'gamma': 1}</td>\n",
       "      <td>8</td>\n",
       "      <td>0.916667</td>\n",
       "      <td>1.000000</td>\n",
       "      <td>...</td>\n",
       "      <td>1.000000</td>\n",
       "      <td>1.000000</td>\n",
       "      <td>0.863636</td>\n",
       "      <td>1.000000</td>\n",
       "      <td>0.952381</td>\n",
       "      <td>1.000000</td>\n",
       "      <td>4.900961e-04</td>\n",
       "      <td>0.000490</td>\n",
       "      <td>0.051923</td>\n",
       "      <td>0.000000</td>\n",
       "    </tr>\n",
       "    <tr>\n",
       "      <th>34</th>\n",
       "      <td>0.001003</td>\n",
       "      <td>0.000600</td>\n",
       "      <td>0.919643</td>\n",
       "      <td>1.000000</td>\n",
       "      <td>100</td>\n",
       "      <td>10</td>\n",
       "      <td>{'C': 100, 'gamma': 10}</td>\n",
       "      <td>13</td>\n",
       "      <td>0.875000</td>\n",
       "      <td>1.000000</td>\n",
       "      <td>...</td>\n",
       "      <td>1.000000</td>\n",
       "      <td>1.000000</td>\n",
       "      <td>0.818182</td>\n",
       "      <td>1.000000</td>\n",
       "      <td>0.952381</td>\n",
       "      <td>1.000000</td>\n",
       "      <td>7.757072e-06</td>\n",
       "      <td>0.000490</td>\n",
       "      <td>0.064791</td>\n",
       "      <td>0.000000</td>\n",
       "    </tr>\n",
       "    <tr>\n",
       "      <th>35</th>\n",
       "      <td>0.001001</td>\n",
       "      <td>0.000200</td>\n",
       "      <td>0.562500</td>\n",
       "      <td>1.000000</td>\n",
       "      <td>100</td>\n",
       "      <td>100</td>\n",
       "      <td>{'C': 100, 'gamma': 100}</td>\n",
       "      <td>19</td>\n",
       "      <td>0.541667</td>\n",
       "      <td>1.000000</td>\n",
       "      <td>...</td>\n",
       "      <td>0.590909</td>\n",
       "      <td>1.000000</td>\n",
       "      <td>0.590909</td>\n",
       "      <td>1.000000</td>\n",
       "      <td>0.619048</td>\n",
       "      <td>1.000000</td>\n",
       "      <td>2.861023e-07</td>\n",
       "      <td>0.000400</td>\n",
       "      <td>0.049668</td>\n",
       "      <td>0.000000</td>\n",
       "    </tr>\n",
       "  </tbody>\n",
       "</table>\n",
       "<p>36 rows × 22 columns</p>\n",
       "</div>"
      ],
      "text/plain": [
       "    mean_fit_time  mean_score_time  mean_test_score  mean_train_score param_C  \\\n",
       "0        0.001201         0.000200         0.366071          0.366079   0.001   \n",
       "1        0.001000         0.000400         0.366071          0.366079   0.001   \n",
       "2        0.001004         0.000801         0.366071          0.366079   0.001   \n",
       "3        0.000000         0.000800         0.366071          0.366079   0.001   \n",
       "4        0.001206         0.000200         0.366071          0.366079   0.001   \n",
       "5        0.001001         0.000200         0.366071          0.366079   0.001   \n",
       "6        0.000605         0.000602         0.366071          0.366079    0.01   \n",
       "7        0.000601         0.000200         0.366071          0.366079    0.01   \n",
       "8        0.001001         0.000000         0.366071          0.366079    0.01   \n",
       "9        0.001001         0.000000         0.366071          0.366079    0.01   \n",
       "10       0.000997         0.000000         0.366071          0.366079    0.01   \n",
       "11       0.001001         0.000200         0.366071          0.366079    0.01   \n",
       "12       0.000600         0.000000         0.366071          0.366079     0.1   \n",
       "13       0.000602         0.000200         0.696429          0.696424     0.1   \n",
       "14       0.000801         0.000000         0.919643          0.919744     0.1   \n",
       "15       0.000600         0.000200         0.955357          0.959846     0.1   \n",
       "16       0.001001         0.000000         0.366071          0.381710     0.1   \n",
       "17       0.000997         0.000608         0.366071          0.366079     0.1   \n",
       "18       0.000600         0.000400         0.696429          0.696424       1   \n",
       "19       0.000400         0.000200         0.928571          0.935325       1   \n",
       "20       0.000200         0.000400         0.964286          0.977650       1   \n",
       "21       0.000601         0.000000         0.946429          0.984393       1   \n",
       "22       0.000997         0.000201         0.919643          1.000000       1   \n",
       "23       0.000804         0.000400         0.508929          1.000000       1   \n",
       "24       0.000400         0.000200         0.928571          0.935325      10   \n",
       "25       0.000597         0.000200         0.964286          0.977676      10   \n",
       "26       0.000404         0.000200         0.964286          0.986566      10   \n",
       "27       0.000601         0.000000         0.937500          0.986591      10   \n",
       "28       0.001001         0.000000         0.919643          1.000000      10   \n",
       "29       0.001003         0.000200         0.562500          1.000000      10   \n",
       "30       0.000400         0.000200         0.964286          0.977676     100   \n",
       "31       0.000400         0.000400         0.973214          0.984368     100   \n",
       "32       0.000400         0.000200         0.955357          0.988788     100   \n",
       "33       0.000400         0.000400         0.946429          1.000000     100   \n",
       "34       0.001003         0.000600         0.919643          1.000000     100   \n",
       "35       0.001001         0.000200         0.562500          1.000000     100   \n",
       "\n",
       "   param_gamma                        params  rank_test_score  \\\n",
       "0        0.001  {'C': 0.001, 'gamma': 0.001}               22   \n",
       "1         0.01   {'C': 0.001, 'gamma': 0.01}               22   \n",
       "2          0.1    {'C': 0.001, 'gamma': 0.1}               22   \n",
       "3            1      {'C': 0.001, 'gamma': 1}               22   \n",
       "4           10     {'C': 0.001, 'gamma': 10}               22   \n",
       "5          100    {'C': 0.001, 'gamma': 100}               22   \n",
       "6        0.001   {'C': 0.01, 'gamma': 0.001}               22   \n",
       "7         0.01    {'C': 0.01, 'gamma': 0.01}               22   \n",
       "8          0.1     {'C': 0.01, 'gamma': 0.1}               22   \n",
       "9            1       {'C': 0.01, 'gamma': 1}               22   \n",
       "10          10      {'C': 0.01, 'gamma': 10}               22   \n",
       "11         100     {'C': 0.01, 'gamma': 100}               22   \n",
       "12       0.001    {'C': 0.1, 'gamma': 0.001}               22   \n",
       "13        0.01     {'C': 0.1, 'gamma': 0.01}               17   \n",
       "14         0.1      {'C': 0.1, 'gamma': 0.1}               13   \n",
       "15           1        {'C': 0.1, 'gamma': 1}                6   \n",
       "16          10       {'C': 0.1, 'gamma': 10}               22   \n",
       "17         100      {'C': 0.1, 'gamma': 100}               22   \n",
       "18       0.001      {'C': 1, 'gamma': 0.001}               17   \n",
       "19        0.01       {'C': 1, 'gamma': 0.01}               11   \n",
       "20         0.1        {'C': 1, 'gamma': 0.1}                2   \n",
       "21           1          {'C': 1, 'gamma': 1}                8   \n",
       "22          10         {'C': 1, 'gamma': 10}               13   \n",
       "23         100        {'C': 1, 'gamma': 100}               21   \n",
       "24       0.001     {'C': 10, 'gamma': 0.001}               11   \n",
       "25        0.01      {'C': 10, 'gamma': 0.01}                2   \n",
       "26         0.1       {'C': 10, 'gamma': 0.1}                2   \n",
       "27           1         {'C': 10, 'gamma': 1}               10   \n",
       "28          10        {'C': 10, 'gamma': 10}               13   \n",
       "29         100       {'C': 10, 'gamma': 100}               19   \n",
       "30       0.001    {'C': 100, 'gamma': 0.001}                2   \n",
       "31        0.01     {'C': 100, 'gamma': 0.01}                1   \n",
       "32         0.1      {'C': 100, 'gamma': 0.1}                6   \n",
       "33           1        {'C': 100, 'gamma': 1}                8   \n",
       "34          10       {'C': 100, 'gamma': 10}               13   \n",
       "35         100      {'C': 100, 'gamma': 100}               19   \n",
       "\n",
       "    split0_test_score  split0_train_score       ...         split2_test_score  \\\n",
       "0            0.375000            0.363636       ...                  0.363636   \n",
       "1            0.375000            0.363636       ...                  0.363636   \n",
       "2            0.375000            0.363636       ...                  0.363636   \n",
       "3            0.375000            0.363636       ...                  0.363636   \n",
       "4            0.375000            0.363636       ...                  0.363636   \n",
       "5            0.375000            0.363636       ...                  0.363636   \n",
       "6            0.375000            0.363636       ...                  0.363636   \n",
       "7            0.375000            0.363636       ...                  0.363636   \n",
       "8            0.375000            0.363636       ...                  0.363636   \n",
       "9            0.375000            0.363636       ...                  0.363636   \n",
       "10           0.375000            0.363636       ...                  0.363636   \n",
       "11           0.375000            0.363636       ...                  0.363636   \n",
       "12           0.375000            0.363636       ...                  0.363636   \n",
       "13           0.708333            0.693182       ...                  0.681818   \n",
       "14           0.916667            0.943182       ...                  1.000000   \n",
       "15           1.000000            0.954545       ...                  1.000000   \n",
       "16           0.375000            0.375000       ...                  0.363636   \n",
       "17           0.375000            0.363636       ...                  0.363636   \n",
       "18           0.708333            0.693182       ...                  0.681818   \n",
       "19           0.875000            0.943182       ...                  1.000000   \n",
       "20           1.000000            0.965909       ...                  1.000000   \n",
       "21           0.916667            0.988636       ...                  1.000000   \n",
       "22           0.875000            1.000000       ...                  1.000000   \n",
       "23           0.500000            1.000000       ...                  0.545455   \n",
       "24           0.875000            0.943182       ...                  1.000000   \n",
       "25           1.000000            0.977273       ...                  1.000000   \n",
       "26           0.958333            0.988636       ...                  1.000000   \n",
       "27           0.916667            0.988636       ...                  1.000000   \n",
       "28           0.875000            1.000000       ...                  1.000000   \n",
       "29           0.541667            1.000000       ...                  0.590909   \n",
       "30           1.000000            0.977273       ...                  1.000000   \n",
       "31           1.000000            0.988636       ...                  1.000000   \n",
       "32           0.958333            0.988636       ...                  1.000000   \n",
       "33           0.916667            1.000000       ...                  1.000000   \n",
       "34           0.875000            1.000000       ...                  1.000000   \n",
       "35           0.541667            1.000000       ...                  0.590909   \n",
       "\n",
       "    split2_train_score  split3_test_score  split3_train_score  \\\n",
       "0             0.366667           0.363636            0.366667   \n",
       "1             0.366667           0.363636            0.366667   \n",
       "2             0.366667           0.363636            0.366667   \n",
       "3             0.366667           0.363636            0.366667   \n",
       "4             0.366667           0.363636            0.366667   \n",
       "5             0.366667           0.363636            0.366667   \n",
       "6             0.366667           0.363636            0.366667   \n",
       "7             0.366667           0.363636            0.366667   \n",
       "8             0.366667           0.363636            0.366667   \n",
       "9             0.366667           0.363636            0.366667   \n",
       "10            0.366667           0.363636            0.366667   \n",
       "11            0.366667           0.363636            0.366667   \n",
       "12            0.366667           0.363636            0.366667   \n",
       "13            0.700000           0.681818            0.700000   \n",
       "14            0.900000           0.863636            0.888889   \n",
       "15            0.944444           0.909091            0.966667   \n",
       "16            0.366667           0.363636            0.422222   \n",
       "17            0.366667           0.363636            0.366667   \n",
       "18            0.700000           0.681818            0.700000   \n",
       "19            0.922222           0.909091            0.933333   \n",
       "20            0.966667           0.909091            0.988889   \n",
       "21            0.977778           0.909091            1.000000   \n",
       "22            1.000000           0.818182            1.000000   \n",
       "23            1.000000           0.500000            1.000000   \n",
       "24            0.922222           0.909091            0.933333   \n",
       "25            0.966667           0.909091            0.988889   \n",
       "26            0.977778           0.954545            0.988889   \n",
       "27            0.977778           0.863636            1.000000   \n",
       "28            1.000000           0.818182            1.000000   \n",
       "29            1.000000           0.590909            1.000000   \n",
       "30            0.966667           0.909091            0.988889   \n",
       "31            0.977778           0.954545            0.988889   \n",
       "32            0.977778           0.863636            1.000000   \n",
       "33            1.000000           0.863636            1.000000   \n",
       "34            1.000000           0.818182            1.000000   \n",
       "35            1.000000           0.590909            1.000000   \n",
       "\n",
       "    split4_test_score  split4_train_score  std_fit_time  std_score_time  \\\n",
       "0            0.380952            0.362637  4.001861e-04        0.000400   \n",
       "1            0.380952            0.362637  1.061967e-06        0.000490   \n",
       "2            0.380952            0.362637  7.742696e-06        0.000400   \n",
       "3            0.380952            0.362637  0.000000e+00        0.000400   \n",
       "4            0.380952            0.362637  4.001321e-04        0.000401   \n",
       "5            0.380952            0.362637  9.702201e-07        0.000400   \n",
       "6            0.380952            0.362637  4.939594e-04        0.000492   \n",
       "7            0.380952            0.362637  4.904465e-04        0.000400   \n",
       "8            0.380952            0.362637  1.784161e-07        0.000000   \n",
       "9            0.380952            0.362637  6.843901e-07        0.000000   \n",
       "10           0.380952            0.362637  6.710371e-06        0.000000   \n",
       "11           0.380952            0.362637  1.101318e-05        0.000400   \n",
       "12           0.380952            0.362637  4.902518e-04        0.000000   \n",
       "13           0.714286            0.692308  4.913516e-04        0.000400   \n",
       "14           0.904762            0.934066  4.003526e-04        0.000000   \n",
       "15           0.952381            0.956044  4.901740e-04        0.000400   \n",
       "16           0.380952            0.362637  3.814697e-07        0.000000   \n",
       "17           0.380952            0.362637  6.314087e-06        0.000496   \n",
       "18           0.714286            0.692308  4.902518e-04        0.000491   \n",
       "19           0.952381            0.934066  4.902129e-04        0.000401   \n",
       "20           0.952381            0.978022  4.003525e-04        0.000490   \n",
       "21           0.952381            0.978022  4.903297e-04        0.000000   \n",
       "22           0.952381            1.000000  6.427581e-06        0.000402   \n",
       "23           0.571429            1.000000  4.023021e-04        0.000490   \n",
       "24           0.952381            0.934066  4.905050e-04        0.000401   \n",
       "25           0.952381            0.978022  4.874861e-04        0.000400   \n",
       "26           0.952381            1.000000  4.945626e-04        0.000400   \n",
       "27           0.952381            0.989011  4.903297e-04        0.000000   \n",
       "28           0.952381            1.000000  3.989506e-07        0.000000   \n",
       "29           0.619048            1.000000  8.649831e-06        0.000400   \n",
       "30           0.952381            0.978022  4.902713e-04        0.000400   \n",
       "31           0.952381            0.989011  4.902713e-04        0.000490   \n",
       "32           0.952381            1.000000  4.903881e-04        0.000400   \n",
       "33           0.952381            1.000000  4.900961e-04        0.000490   \n",
       "34           0.952381            1.000000  7.757072e-06        0.000490   \n",
       "35           0.619048            1.000000  2.861023e-07        0.000400   \n",
       "\n",
       "    std_test_score  std_train_score  \n",
       "0         0.011371         0.002852  \n",
       "1         0.011371         0.002852  \n",
       "2         0.011371         0.002852  \n",
       "3         0.011371         0.002852  \n",
       "4         0.011371         0.002852  \n",
       "5         0.011371         0.002852  \n",
       "6         0.011371         0.002852  \n",
       "7         0.011371         0.002852  \n",
       "8         0.011371         0.002852  \n",
       "9         0.011371         0.002852  \n",
       "10        0.011371         0.002852  \n",
       "11        0.011371         0.002852  \n",
       "12        0.011371         0.002852  \n",
       "13        0.013196         0.003258  \n",
       "14        0.044010         0.021266  \n",
       "15        0.040104         0.011304  \n",
       "16        0.011371         0.021337  \n",
       "17        0.011371         0.002852  \n",
       "18        0.013196         0.003258  \n",
       "19        0.042983         0.007888  \n",
       "20        0.034077         0.010084  \n",
       "21        0.032480         0.008866  \n",
       "22        0.064791         0.000000  \n",
       "23        0.046435         0.000000  \n",
       "24        0.042983         0.007888  \n",
       "25        0.034077         0.007032  \n",
       "26        0.017769         0.008355  \n",
       "27        0.045253         0.008362  \n",
       "28        0.064791         0.000000  \n",
       "29        0.049668         0.000000  \n",
       "30        0.034077         0.007032  \n",
       "31        0.022400         0.005485  \n",
       "32        0.049566         0.009995  \n",
       "33        0.051923         0.000000  \n",
       "34        0.064791         0.000000  \n",
       "35        0.049668         0.000000  \n",
       "\n",
       "[36 rows x 22 columns]"
      ]
     },
     "metadata": {},
     "output_type": "display_data"
    }
   ],
   "source": [
    "results = pd.DataFrame(grid_search.cv_results_)\n",
    "display(results)"
   ]
  },
  {
   "cell_type": "markdown",
   "metadata": {},
   "source": [
    "2차원의 매개변수 grid를 가지므로 히트맵(heat map)을 이용하여 시각화 한다. x축에 'gamma', y축에 'C', 각 격자안에 교차 검정의 평균값을 입력한다."
   ]
  },
  {
   "cell_type": "code",
   "execution_count": 61,
   "metadata": {},
   "outputs": [
    {
     "name": "stderr",
     "output_type": "stream",
     "text": [
      "C:\\Users\\YUNJIN\\Anaconda3\\lib\\site-packages\\sklearn\\model_selection\\_search.py:667: DeprecationWarning: The grid_scores_ attribute was deprecated in version 0.18 in favor of the more elaborate cv_results_ attribute. The grid_scores_ attribute will not be available from 0.20\n",
      "  DeprecationWarning)\n"
     ]
    },
    {
     "data": {
      "image/png": "[encoded data removed]",
      "text/plain": [
       "<matplotlib.figure.Figure at 0x51afdf99e8>"
      ]
     },
     "metadata": {},
     "output_type": "display_data"
    }
   ],
   "source": [
    "scores = [score.mean_validation_score for score in grid_search.grid_scores_]\n",
    "scores = np.array(scores).reshape(6, 6)\n",
    "\n",
    "# plot the mean cross-validation scores \n",
    "mglearn.tools.heatmap(scores, xlabel='gamma', ylabel='C', \n",
    "                      xticklabels=param_grid['gamma'], yticklabels=param_grid['C'],\n",
    "                      cmap=\"viridis\")\n",
    "plt.show() # 버젼이 낮으면 오류가 뜰 수 있음"
   ]
  },
  {
   "cell_type": "markdown",
   "metadata": {},
   "source": [
    " 히트맵 결과를 통해서 SVC가 매개변수 선택에 따라 얼마나 민감한 지를 확인할 수 있다. 또한 우리가 선택한 매개변수 조합들의 범위가 적절했고 적당히 컸기 때문에 낮은 정확도부터 높은 정확도까지 모두 확인할 수 있었다.\n",
    " 아래는 매개변수 조합을 잘못 선정했을 때의 결과를 보여주는 히트맵."
   ]
  },
  {
   "cell_type": "code",
   "execution_count": 62,
   "metadata": {},
   "outputs": [
    {
     "name": "stderr",
     "output_type": "stream",
     "text": [
      "C:\\Users\\YUNJIN\\Anaconda3\\lib\\site-packages\\sklearn\\model_selection\\_search.py:667: DeprecationWarning: The grid_scores_ attribute was deprecated in version 0.18 in favor of the more elaborate cv_results_ attribute. The grid_scores_ attribute will not be available from 0.20\n",
      "  DeprecationWarning)\n",
      "C:\\Users\\YUNJIN\\Anaconda3\\lib\\site-packages\\sklearn\\model_selection\\_search.py:667: DeprecationWarning: The grid_scores_ attribute was deprecated in version 0.18 in favor of the more elaborate cv_results_ attribute. The grid_scores_ attribute will not be available from 0.20\n",
      "  DeprecationWarning)\n",
      "C:\\Users\\YUNJIN\\Anaconda3\\lib\\site-packages\\sklearn\\model_selection\\_search.py:667: DeprecationWarning: The grid_scores_ attribute was deprecated in version 0.18 in favor of the more elaborate cv_results_ attribute. The grid_scores_ attribute will not be available from 0.20\n",
      "  DeprecationWarning)\n"
     ]
    },
    {
     "data": {
      "image/png": "[encoded data removed]",
      "text/plain": [
       "<matplotlib.figure.Figure at 0x51b01a6e80>"
      ]
     },
     "metadata": {},
     "output_type": "display_data"
    },
    {
     "name": "stdout",
     "output_type": "stream",
     "text": [
      "gridsearch_failures\n"
     ]
    }
   ],
   "source": [
    "fig, axes = plt.subplots(1, 3, figsize=(13, 5))\n",
    "param_grid_linear = {'C': np.linspace(1, 2, 6),\n",
    "                     'gamma':  np.linspace(1, 2, 6)}\n",
    "param_grid_one_log = {'C': np.linspace(1, 2, 6),\n",
    "                      'gamma':  np.logspace(-3, 2, 6)}\n",
    "param_grid_range = {'C': np.logspace(-3, 2, 6),\n",
    "                    'gamma':  np.logspace(-7, -2, 6)}\n",
    "for param_grid, ax in zip([param_grid_linear, param_grid_one_log,\n",
    "                           param_grid_range], axes):    \n",
    "    grid_search = GridSearchCV(SVC(), param_grid, cv=5)    \n",
    "    grid_search.fit(X_train, y_train)    \n",
    "    scores = [score.mean_validation_score for score in grid_search.grid_scores_]\n",
    "    scores = np.array(scores).reshape(6, 6)\n",
    "    \n",
    "    # plot the mean cross-validation scores    \n",
    "    scores_image = mglearn.tools.heatmap(scores, xlabel='gamma', ylabel='C', \n",
    "                                         xticklabels=param_grid['gamma'],\n",
    "                                         yticklabels=param_grid['C'], cmap=\"viridis\",\n",
    "                                         ax=ax)\n",
    "    \n",
    "plt.colorbar(scores_image, ax=axes.tolist())\n",
    "plt.show()\n",
    "print(\"gridsearch_failures\")\n"
   ]
  },
  {
   "cell_type": "markdown",
   "metadata": {},
   "source": [
    "1번 heatmap : 점수 변화가 없음\n",
    "- C와 gamma의 범위가 적절하지 않음 or C와 gamma가 중요하지않은 매개변수  \n",
    "\n",
    "2번 heatmap : 세로로 색이 나타남\n",
    "- gamma는 적절한 범위를 가짐\n",
    "- C는 영향을 주지 않은 매개변수 or C의 범위가 적절하지 않음  \n",
    "\n",
    "3번 heatmap : C와 gamma에 따라 값이 변화\n",
    "- C의 아래쪽 범위에서 변화가 없으므로 C 범위에 있는 값들을 높여 주면 좋음"
   ]
  },
  {
   "cell_type": "markdown",
   "metadata": {},
   "source": [
    "training set과 validation set으로 1번만 분할하려면 n_splits = 1로하고 ShuffleSplit, StratifiedShuffleSplit을 사용한다. 주로 data set이 크거나 모델 구축에 시간이 오래 걸릴 때 사용한다."
   ]
  },
  {
   "cell_type": "markdown",
   "metadata": {},
   "source": [
    "### Nested cross-validation(중접 교차 검증)\n",
    "\n",
    " 처음에 데이터를 training, test data로 나눈 후 training set로 grid search를 한다. 이는 grid search를 통해 찾은 최적의 매개변수가 모델을 얼마나 잘 일반화 시켰는지 알려준다."
   ]
  },
  {
   "cell_type": "code",
   "execution_count": 63,
   "metadata": {},
   "outputs": [
    {
     "name": "stdout",
     "output_type": "stream",
     "text": [
      "교차 검증 점수:  [ 0.96666667  1.          0.96666667  0.96666667  1.        ]\n",
      "교차 검증 평균 점수:  0.98\n"
     ]
    }
   ],
   "source": [
    "scores = cross_val_score(GridSearchCV(SVC(), param_grid, cv=5), \n",
    "                         iris.data, iris.target, cv=5) \n",
    "print(\"교차 검증 점수: \", scores) \n",
    "print(\"교차 검증 평균 점수: \", scores.mean())"
   ]
  },
  {
   "cell_type": "markdown",
   "metadata": {},
   "source": [
    " = SVC는 iris 데이터 셋에서 평균 교차 검증 정확도가 98%다.  \n",
    " \n",
    " 이 방법은 k-겹 교차 검증을 2번 사용하므로(36 X 5 X 5 = 900) 시간이 많이걸리고 비싸다."
   ]
  },
  {
   "cell_type": "code",
   "execution_count": null,
   "metadata": {
    "collapsed": true
   },
   "outputs": [],
   "source": []
  },
  {
   "cell_type": "code",
   "execution_count": 64,
   "metadata": {},
   "outputs": [
    {
     "name": "stderr",
     "output_type": "stream",
     "text": [
      "C:\\Users\\YUNJIN\\Anaconda3\\lib\\site-packages\\sklearn\\cross_validation.py:44: DeprecationWarning: This module was deprecated in version 0.18 in favor of the model_selection module into which all the refactored classes and functions are moved. Also note that the interface of the new CV iterators are different from that of this module. This module will be removed in 0.20.\n",
      "  \"This module will be removed in 0.20.\", DeprecationWarning)\n"
     ]
    }
   ],
   "source": [
    "import numpy as np\n",
    "import mglearn\n",
    "import matplotlib.pyplot as plt\n",
    "from sklearn.datasets import load_digits\n",
    "from sklearn.cross_validation import train_test_split\n",
    "from sklearn.dummy import DummyClassifier\n",
    "from sklearn.tree import DecisionTreeClassifier\n",
    "from sklearn.linear_model import LogisticRegression\n",
    "from sklearn.metrics import confusion_matrix\n",
    "from sklearn.metrics import f1_score\n",
    "from sklearn.metrics import classification_report\n",
    "from mglearn.datasets import make_blobs\n",
    "from sklearn.svm import SVC\n",
    "from sklearn.metrics import roc_curve"
   ]
  },
  {
   "cell_type": "code",
   "execution_count": 65,
   "metadata": {
    "collapsed": true
   },
   "outputs": [],
   "source": [
    "# train/test set 나누기 \n",
    "digits = load_digits()\n",
    "y = digits.target == 9\n",
    "X_train, X_test, y_train, y_test = train_test_split(digits.data, y, random_state=0)"
   ]
  },
  {
   "cell_type": "markdown",
   "metadata": {},
   "source": [
    "## 모델 별로 score값 계산하기\n",
    "#### (accuracy와 비슷한 개념. training set을 통해 만들어진 모델로 test set에서 얼마나 맞추는지...) \n",
    "#### 이번 단원은 구체적인 classifier를 이해하기 보다는, 다양한 모델들의 score값을 계산하는 것에 초점을 맞춥니다."
   ]
  },
  {
   "cell_type": "code",
   "execution_count": 66,
   "metadata": {},
   "outputs": [
    {
     "name": "stdout",
     "output_type": "stream",
     "text": [
      "dummy score: 0.826667\n"
     ]
    }
   ],
   "source": [
    "# Dummy classifier (Training set의 분포를 기준으로 분류하는 방법)\n",
    "dummy = DummyClassifier().fit(X_train, y_train)\n",
    "pred_dummy = dummy.predict(X_test)\n",
    "print(\"dummy score: %f\" % dummy.score(X_test, y_test)) "
   ]
  },
  {
   "cell_type": "code",
   "execution_count": 67,
   "metadata": {},
   "outputs": [
    {
     "data": {
      "text/plain": [
       "0.9177777777777778"
      ]
     },
     "execution_count": 67,
     "metadata": {},
     "output_type": "execute_result"
    }
   ],
   "source": [
    "# Decisiontree (information gain등 일정 지표를 통해 training set을 특징별로 나눠가는 것, 28일 세션에 배움:D)\n",
    "tree = DecisionTreeClassifier(max_depth=2).fit(X_train, y_train)\n",
    "pred_tree = tree.predict(X_test)\n",
    "tree.score(X_test, y_test) # accyracy: 91.78% (good!)"
   ]
  },
  {
   "cell_type": "code",
   "execution_count": 68,
   "metadata": {},
   "outputs": [
    {
     "name": "stdout",
     "output_type": "stream",
     "text": [
      "logreg score: 0.977778\n"
     ]
    }
   ],
   "source": [
    "# Logistic regression (이미 배웠음!)\n",
    "logreg = LogisticRegression(C=0.1).fit(X_train, y_train)\n",
    "pred_logreg = logreg.predict(X_test)\n",
    "print(\"logreg score: %f\" % logreg.score(X_test, y_test)) # (goood!)"
   ]
  },
  {
   "cell_type": "markdown",
   "metadata": {},
   "source": [
    "## Confusion matrix, F1 score 계산하기"
   ]
  },
  {
   "cell_type": "code",
   "execution_count": 69,
   "metadata": {},
   "outputs": [
    {
     "name": "stdout",
     "output_type": "stream",
     "text": [
      "[[401   2]\n",
      " [  8  39]]\n"
     ]
    }
   ],
   "source": [
    "# logistic regression 모델의 confusion matrix\n",
    "confusion = confusion_matrix(y_test, pred_logreg) \n",
    "print(confusion)"
   ]
  },
  {
   "cell_type": "code",
   "execution_count": 70,
   "metadata": {},
   "outputs": [
    {
     "name": "stdout",
     "output_type": "stream",
     "text": [
      "f1 score dummy: 0.06\n",
      "f1 score tree: 0.55\n",
      "f1 score logistic: 0.89\n"
     ]
    }
   ],
   "source": [
    "# confusion matrix의 값들을 이용한 3가지 모델의 f1 score값 비교\n",
    "# precision = tp/(tp+fp) :내모델이 1이라고 예측한 애들 중에서, 실제로도 1인 애의 비율... \n",
    "# recall = tp/(tp+fn) :실제 1인애들 중에서, 내 모델로도 1이라고 잘 맞춘 비율...\n",
    "# 보통 precision과 recall은 반비례 관계라 중간 타협 지점을 잘 찾아서 model을 구성해야함\n",
    "# F1 score = (2*precision*recall)/(precision+recall)\n",
    "# 어쨌든 f1 score값은 높을수록, 좋은 모델이라고 할 수 있음 \n",
    "print(\"f1 score dummy: %.2f\" % f1_score(y_test, pred_dummy))\n",
    "print(\"f1 score tree: %.2f\" % f1_score(y_test, pred_tree))\n",
    "print(\"f1 score logistic: %.2f\" % f1_score(y_test, pred_logreg))"
   ]
  },
  {
   "cell_type": "code",
   "execution_count": 71,
   "metadata": {},
   "outputs": [
    {
     "name": "stdout",
     "output_type": "stream",
     "text": [
      "             precision    recall  f1-score   support\n",
      "\n",
      "   not nine       0.98      1.00      0.99       403\n",
      "       nine       0.95      0.83      0.89        47\n",
      "\n",
      "avg / total       0.98      0.98      0.98       450\n",
      "\n"
     ]
    }
   ],
   "source": [
    "# 방금 구했던 precision, recall, f1-score는 report함수를 이용하여 예쁘게 보기도 가능...\n",
    "print(classification_report(y_test, pred_logreg, target_names=[\"not nine\", \"nine\"]))"
   ]
  },
  {
   "cell_type": "markdown",
   "metadata": {},
   "source": [
    "## ROC curve"
   ]
  },
  {
   "cell_type": "code",
   "execution_count": 72,
   "metadata": {},
   "outputs": [
    {
     "data": {
      "image/png": "[encoded data removed]",
      "text/plain": [
       "<matplotlib.figure.Figure at 0x51b0414898>"
      ]
     },
     "metadata": {},
     "output_type": "display_data"
    }
   ],
   "source": [
    "# SVM 알고리즘 이용 (support vector machine은 11/9 세션에 자세히...)\n",
    "# 파란동그라미: negative class\n",
    "# 주황세모: positive class\n",
    "# 경계값(threshold) 0~1 \n",
    "# threshold값이 0에 가까우면 더 보수적으로 positive를 잡아냄 (precision값 큼)\n",
    "X, y = make_blobs(n_samples=(400, 50), centers=2, cluster_std=[7.0, 2], random_state=22)\n",
    "X_train, X_test, y_train, y_test = train_test_split(X, y, random_state=0)\n",
    "svc = SVC(gamma=.05).fit(X_train, y_train)\n",
    "mglearn.plots.plot_decision_threshold()\n",
    "plt.show()"
   ]
  },
  {
   "cell_type": "code",
   "execution_count": 73,
   "metadata": {},
   "outputs": [
    {
     "name": "stdout",
     "output_type": "stream",
     "text": [
      "             precision    recall  f1-score   support\n",
      "\n",
      "          0       0.97      0.89      0.93       104\n",
      "          1       0.35      0.67      0.46         9\n",
      "\n",
      "avg / total       0.92      0.88      0.89       113\n",
      "\n",
      "             precision    recall  f1-score   support\n",
      "\n",
      "          0       1.00      0.82      0.90       104\n",
      "          1       0.32      1.00      0.49         9\n",
      "\n",
      "avg / total       0.95      0.83      0.87       113\n",
      "\n"
     ]
    }
   ],
   "source": [
    "# threshold 값에 따른 precision, recall값 비교\n",
    "\n",
    "# 보수적인 애 (threshold 값이 0에 가까움)\n",
    "print(classification_report(y_test, svc.predict(X_test)))\n",
    "\n",
    "# 덜 보수적인 애 (threshold 값이 1에 가까움)\n",
    "y_pred_lower_threshold = svc.decision_function(X_test) > -.8\n",
    "print(classification_report(y_test, y_pred_lower_threshold))\n",
    "\n",
    "# 결과를 보면 0에 대한 precision 값이 높아지면 1에 대한 precision 값이 떨어지고\n",
    "# 마찬가지로 0에 대한 recall 값이 낮아지면 1에 대한 recall 값이 높아지는 등\n",
    "# threshold에 따라 precision, recall은 반비례관계... 적절한 타협점 필요!"
   ]
  },
  {
   "cell_type": "code",
   "execution_count": 74,
   "metadata": {},
   "outputs": [
    {
     "data": {
      "image/png": "[encoded data removed]",
      "text/plain": [
       "<matplotlib.figure.Figure at 0x51b0277a20>"
      ]
     },
     "metadata": {},
     "output_type": "display_data"
    }
   ],
   "source": [
    "# ROC curve\n",
    "# x축은 false positive rate (=fp/(fp+tn)) 값, y축은 true positive rate (=recall) 값\n",
    "# 어쨌든 x 값은 작을수록, y값은 클수록 좋음\n",
    "fpr, tpr, thresholds = roc_curve(y_test, svc.decision_function(X_test)) # 실제 y와 예측된 y로 fpr, tpr, threshold 계산\n",
    "plt.plot(fpr, tpr, label=\"ROC Curve\")\n",
    "plt.xlabel(\"FPR\")\n",
    "plt.ylabel(\"TPR (recall)\")\n",
    "plt.title(\"roc_curve\");\n",
    "\n",
    "close_zero = np.argmin(np.abs(thresholds)) # threshold의 절댓값이 작은 index를 체크해봄\n",
    "plt.plot(fpr[close_zero], tpr[close_zero], '*', markersize=10, label=\"threshold zero\", fillstyle=\"none\", c='k', mew=2)\n",
    "plt.legend(loc=4)\n",
    "plt.show()\n",
    "# threshold를 별표인 곳으로 잡으면... recall은 0.7 정도, fpr은 0.1 정도로 타협 본 모델로 택하는 것"
   ]
  },
  {
   "cell_type": "markdown",
   "metadata": {},
   "source": [
    "### 감사합니다. : )"
   ]
  },
  {
   "cell_type": "markdown",
   "metadata": {},
   "source": [
    "## Reference:\n",
    "### Introduction machine learning with python by Andreas C. Mueller and Sarah Guido, Chapter 6"
   ]
  }
 ],
 "metadata": {
  "kernelspec": {
   "display_name": "Python 3",
   "language": "python",
   "name": "python3"
  },
  "language_info": {
   "codemirror_mode": {
    "name": "ipython",
    "version": 3
   },
   "file_extension": ".py",
   "mimetype": "text/x-python",
   "name": "python",
   "nbconvert_exporter": "python",
   "pygments_lexer": "ipython3",
   "version": "3.6.4"
  }
 },
 "nbformat": 4,
 "nbformat_minor": 2
}
