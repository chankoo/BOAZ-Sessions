{
 "cells": [
  {
   "cell_type": "code",
   "execution_count": 1,
   "metadata": {},
   "outputs": [],
   "source": [
    "from sklearn import cluster\n",
    "from sklearn import datasets\n",
    "import matplotlib.pyplot as plt\n",
    "import numpy as np"
   ]
  },
  {
   "cell_type": "code",
   "execution_count": 2,
   "metadata": {},
   "outputs": [],
   "source": [
    "# data load\n",
    "iris = datasets.load_iris()"
   ]
  },
  {
   "cell_type": "code",
   "execution_count": 3,
   "metadata": {},
   "outputs": [
    {
     "name": "stdout",
     "output_type": "stream",
     "text": [
      "['setosa' 'versicolor' 'virginica'] \n",
      " ['sepal length (cm)', 'sepal width (cm)', 'petal length (cm)', 'petal width (cm)']\n"
     ]
    }
   ],
   "source": [
    "print(iris.target_names, '\\n', iris.feature_names)"
   ]
  },
  {
   "cell_type": "code",
   "execution_count": 4,
   "metadata": {},
   "outputs": [
    {
     "name": "stdout",
     "output_type": "stream",
     "text": [
      "[[5.1 3.5 1.4 0.2]\n",
      " [4.9 3.  1.4 0.2]\n",
      " [4.7 3.2 1.3 0.2]\n",
      " [4.6 3.1 1.5 0.2]\n",
      " [5.  3.6 1.4 0.2]\n",
      " [5.4 3.9 1.7 0.4]\n",
      " [4.6 3.4 1.4 0.3]\n",
      " [5.  3.4 1.5 0.2]\n",
      " [4.4 2.9 1.4 0.2]\n",
      " [4.9 3.1 1.5 0.1]] \n",
      "\n",
      "[0 0 0 0 0 0 0 0 0 0 0 0 0 0 0 0 0 0 0 0 0 0 0 0 0 0 0 0 0 0 0 0 0 0 0 0 0\n",
      " 0 0 0 0 0 0 0 0 0 0 0 0 0 1 1 1 1 1 1 1 1 1 1 1 1 1 1 1 1 1 1 1 1 1 1 1 1\n",
      " 1 1 1 1 1 1 1 1 1 1 1 1 1 1 1 1 1 1 1 1 1 1 1 1 1 1 2 2 2 2 2 2 2 2 2 2 2\n",
      " 2 2 2 2 2 2 2 2 2 2 2 2 2 2 2 2 2 2 2 2 2 2 2 2 2 2 2 2 2 2 2 2 2 2 2 2 2\n",
      " 2 2]\n"
     ]
    }
   ],
   "source": [
    "# 딕셔너리 형태기 때문에 이런식으로 접근\n",
    "data = iris.data\n",
    "label = iris.target\n",
    "print(data[:10], '\\n')\n",
    "print(label)"
   ]
  },
  {
   "cell_type": "code",
   "execution_count": 8,
   "metadata": {},
   "outputs": [
    {
     "name": "stdout",
     "output_type": "stream",
     "text": [
      "[[ 5.1  3.5  1.4  0.2]\n",
      " [ 4.9  3.   1.4  0.2]\n",
      " [ 4.7  3.2  1.3  0.2]\n",
      " [ 4.6  3.1  1.5  0.2]\n",
      " [ 5.   3.6  1.4  0.2]\n",
      " [ 5.4  3.9  1.7  0.4]\n",
      " [ 4.6  3.4  1.4  0.3]\n",
      " [ 5.   3.4  1.5  0.2]\n",
      " [ 4.4  2.9  1.4  0.2]\n",
      " [ 4.9  3.1  1.5  0.1]]\n"
     ]
    }
   ],
   "source": [
    "species1 = data[label == 0]  # label 이 0인 값들만\n",
    "species2 = data[label == 1]\n",
    "species3 = data[label == 2]\n",
    "print(species1[:10])"
   ]
  },
  {
   "cell_type": "code",
   "execution_count": 9,
   "metadata": {},
   "outputs": [
    {
     "data": {
      "image/png": "[encoded data removed]",
      "text/plain": [
       "<matplotlib.figure.Figure at 0x1da931f84a8>"
      ]
     },
     "metadata": {},
     "output_type": "display_data"
    }
   ],
   "source": [
    "# 실제 값\n",
    "plt.scatter(species1[:, 3], species1[:, 1], marker='o', c='r')  # [:, 3] = 4열의 값만\n",
    "plt.scatter(species2[:, 3], species2[:, 1], marker='o', c='b')\n",
    "plt.scatter(species3[:, 3], species3[:, 1], marker='o', c='g')\n",
    "plt.show()"
   ]
  },
  {
   "cell_type": "code",
   "execution_count": 10,
   "metadata": {},
   "outputs": [
    {
     "data": {
      "text/plain": [
       "(array([[ 5.9016129 ,  2.7483871 ,  4.39354839,  1.43387097],\n",
       "        [ 5.006     ,  3.418     ,  1.464     ,  0.244     ],\n",
       "        [ 6.85      ,  3.07368421,  5.74210526,  2.07105263]]),\n",
       " array([1, 1, 1, 1, 1, 1, 1, 1, 1, 1, 1, 1, 1, 1, 1, 1, 1, 1, 1, 1, 1, 1, 1,\n",
       "        1, 1, 1, 1, 1, 1, 1, 1, 1, 1, 1, 1, 1, 1, 1, 1, 1, 1, 1, 1, 1, 1, 1,\n",
       "        1, 1, 1, 1, 0, 0, 2, 0, 0, 0, 0, 0, 0, 0, 0, 0, 0, 0, 0, 0, 0, 0, 0,\n",
       "        0, 0, 0, 0, 0, 0, 0, 0, 2, 0, 0, 0, 0, 0, 0, 0, 0, 0, 0, 0, 0, 0, 0,\n",
       "        0, 0, 0, 0, 0, 0, 0, 0, 2, 0, 2, 2, 2, 2, 0, 2, 2, 2, 2, 2, 2, 0, 0,\n",
       "        2, 2, 2, 2, 0, 2, 0, 2, 0, 2, 2, 0, 0, 2, 2, 2, 2, 2, 0, 2, 2, 2, 2,\n",
       "        0, 2, 2, 2, 0, 2, 2, 2, 0, 2, 2, 0]),\n",
       " 78.940841426146022)"
      ]
     },
     "execution_count": 10,
     "metadata": {},
     "output_type": "execute_result"
    }
   ],
   "source": [
    "# 학습\n",
    "iris_kmeans = cluster.k_means(data, n_clusters=3)\n",
    "iris_kmeans\n",
    "# 첫번째 array 는 중심점\n",
    "# 두번째 array 는 군집 label"
   ]
  },
  {
   "cell_type": "code",
   "execution_count": 11,
   "metadata": {},
   "outputs": [
    {
     "name": "stdout",
     "output_type": "stream",
     "text": [
      "[[ 6.9  3.1  4.9  1.5]\n",
      " [ 6.7  3.   5.   1.7]\n",
      " [ 6.3  3.3  6.   2.5]\n",
      " [ 7.1  3.   5.9  2.1]\n",
      " [ 6.3  2.9  5.6  1.8]\n",
      " [ 6.5  3.   5.8  2.2]\n",
      " [ 7.6  3.   6.6  2.1]\n",
      " [ 7.3  2.9  6.3  1.8]\n",
      " [ 6.7  2.5  5.8  1.8]\n",
      " [ 7.2  3.6  6.1  2.5]]\n"
     ]
    }
   ],
   "source": [
    "species1_predict = data[iris_kmeans[1] == 0]  # 학습 후 군집 label 이 0인 값들만\n",
    "species2_predict = data[iris_kmeans[1] == 1]\n",
    "species3_predict = data[iris_kmeans[1] == 2]\n",
    "print(species3_predict[:10])"
   ]
  },
  {
   "cell_type": "code",
   "execution_count": 12,
   "metadata": {},
   "outputs": [
    {
     "data": {
      "image/png": "[encoded data removed]",
      "text/plain": [
       "<matplotlib.figure.Figure at 0x1da9204e198>"
      ]
     },
     "metadata": {},
     "output_type": "display_data"
    }
   ],
   "source": [
    "plt.scatter(species1_predict[:, 3], species1_predict[:, 1], marker='o', c='b')\n",
    "plt.scatter(species2_predict[:, 3], species2_predict[:, 1], marker='o', c='r')\n",
    "plt.scatter(species3_predict[:, 3], species3_predict[:, 1], marker='o', c='g')\n",
    "plt.scatter(iris_kmeans[0][0][3], iris_kmeans[0][0][1], marker='^', c='b', s=150, edgecolor='r')\n",
    "plt.scatter(iris_kmeans[0][1][3], iris_kmeans[0][1][1], marker='^', c='r', s=150, edgecolor='b')\n",
    "plt.scatter(iris_kmeans[0][2][3], iris_kmeans[0][2][1], marker='^', c='g', s=150, edgecolor='r')\n",
    "# iris_kmeans[중점들 모임][-번 종][-열 데이터]\n",
    "plt.show()"
   ]
  },
  {
   "cell_type": "code",
   "execution_count": 13,
   "metadata": {},
   "outputs": [
    {
     "data": {
      "image/png": "[encoded data removed]",
      "text/plain": [
       "<matplotlib.figure.Figure at 0x1da8ffd1470>"
      ]
     },
     "metadata": {},
     "output_type": "display_data"
    }
   ],
   "source": [
    "# 최적 k값 찾기~\n",
    "def elbow(data, length):\n",
    "    sse = []\n",
    "    for n_clusters in range(1, length):\n",
    "        model = cluster.k_means(data, n_clusters=n_clusters)\n",
    "        sse.append(model[2])\n",
    "        \n",
    "    plt.plot(range(1, length), sse, marker='o')\n",
    "    plt.xlabel('n_clusters')\n",
    "    plt.ylabel('SSE')\n",
    "    plt.show()\n",
    "elbow(data, length=10)"
   ]
  },
  {
   "cell_type": "code",
   "execution_count": 14,
   "metadata": {
    "collapsed": true
   },
   "outputs": [],
   "source": [
    "from sklearn.metrics import confusion_matrix"
   ]
  },
  {
   "cell_type": "code",
   "execution_count": 15,
   "metadata": {
    "collapsed": true
   },
   "outputs": [],
   "source": [
    "# 학습 후 달라진 순서 정리\n",
    "predict_value = np.append(np.append(iris_kmeans[1][-50:], iris_kmeans[1][:50]), iris_kmeans[1][50:100])"
   ]
  },
  {
   "cell_type": "code",
   "execution_count": 16,
   "metadata": {},
   "outputs": [
    {
     "name": "stdout",
     "output_type": "stream",
     "text": [
      "[[14  0 48]\n",
      " [ 0 50  0]\n",
      " [36  0  2]]\n"
     ]
    }
   ],
   "source": [
    "# confusion_matrix\n",
    "matrix = confusion_matrix(predict_value, iris.target)\n",
    "print(matrix)"
   ]
  },
  {
   "cell_type": "code",
   "execution_count": 17,
   "metadata": {},
   "outputs": [
    {
     "name": "stdout",
     "output_type": "stream",
     "text": [
      "             precision    recall  f1-score   support\n",
      "\n",
      "          0       0.28      0.23      0.25        62\n",
      "          1       1.00      1.00      1.00        50\n",
      "          2       0.04      0.05      0.05        38\n",
      "\n",
      "avg / total       0.46      0.44      0.45       150\n",
      "\n"
     ]
    }
   ],
   "source": [
    "# summary\n",
    "from sklearn.metrics import classification_report\n",
    "print(classification_report(predict_value, iris.target))"
   ]
  }
 ],
 "metadata": {
  "kernelspec": {
   "display_name": "Python 3",
   "language": "python",
   "name": "python3"
  },
  "language_info": {
   "codemirror_mode": {
    "name": "ipython",
    "version": 3
   },
   "file_extension": ".py",
   "mimetype": "text/x-python",
   "name": "python",
   "nbconvert_exporter": "python",
   "pygments_lexer": "ipython3",
   "version": "3.6.4"
  }
 },
 "nbformat": 4,
 "nbformat_minor": 1
}
