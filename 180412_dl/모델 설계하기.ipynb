{
 "cells": [
  {
   "cell_type": "markdown",
   "metadata": {},
   "source": [
    "# 딥러닝을 구동하는 데 필요한 케라스 함수를 불러옵니다."
   ]
  },
  {
   "cell_type": "code",
   "execution_count": 40,
   "metadata": {},
   "outputs": [],
   "source": [
    "from keras.models import Sequential\n",
    "from keras.layers import Dense, Dropout\n",
    "from keras.utils import np_utils"
   ]
  },
  {
   "cell_type": "markdown",
   "metadata": {},
   "source": [
    "# 필요한 라이브러리를 불러옵니다"
   ]
  },
  {
   "cell_type": "code",
   "execution_count": 41,
   "metadata": {},
   "outputs": [],
   "source": [
    "import numpy\n",
    "import tensorflow as tf"
   ]
  },
  {
   "cell_type": "markdown",
   "metadata": {},
   "source": [
    "# 실행할 때마다 같은 결과를 출력하기 위해 설정하는 부분입니다"
   ]
  },
  {
   "cell_type": "code",
   "execution_count": 42,
   "metadata": {},
   "outputs": [],
   "source": [
    "seed = 0\n",
    "numpy.random.seed(seed)\n",
    "tf.set_random_seed(seed)"
   ]
  },
  {
   "cell_type": "code",
   "execution_count": 43,
   "metadata": {},
   "outputs": [],
   "source": [
    "# 준비된 수술 환자 데이터를 불러들입니다."
   ]
  },
  {
   "cell_type": "code",
   "execution_count": 44,
   "metadata": {},
   "outputs": [],
   "source": [
    "Data_set = numpy.loadtxt(\"C:/Users/Chankoo/Desktop/BOAZ/세션자료/180412_dl/ThoraricSurgery.csv\", delimiter=\",\")"
   ]
  },
  {
   "cell_type": "code",
   "execution_count": 45,
   "metadata": {},
   "outputs": [
    {
     "data": {
      "text/plain": [
       "array([[293.  ,   1.  ,   3.8 , ...,   0.  ,  62.  ,   0.  ],\n",
       "       [  1.  ,   2.  ,   2.88, ...,   0.  ,  60.  ,   0.  ],\n",
       "       [  8.  ,   2.  ,   3.19, ...,   0.  ,  66.  ,   1.  ],\n",
       "       ...,\n",
       "       [406.  ,   6.  ,   5.36, ...,   0.  ,  62.  ,   0.  ],\n",
       "       [ 25.  ,   8.  ,   4.32, ...,   0.  ,  58.  ,   1.  ],\n",
       "       [447.  ,   8.  ,   5.2 , ...,   0.  ,  49.  ,   0.  ]])"
      ]
     },
     "execution_count": 45,
     "metadata": {},
     "output_type": "execute_result"
    }
   ],
   "source": [
    "Data_set"
   ]
  },
  {
   "cell_type": "code",
   "execution_count": 46,
   "metadata": {},
   "outputs": [],
   "source": [
    "# 환자의 기록과 수술 결과를 X와 Y로 구분하여 저장합니다."
   ]
  },
  {
   "cell_type": "code",
   "execution_count": 47,
   "metadata": {},
   "outputs": [],
   "source": [
    "X = Data_set[:,0:17]\n",
    "Y = Data_set[:,17]\n",
    "Y = np_utils.to_categorical(Y)"
   ]
  },
  {
   "cell_type": "code",
   "execution_count": 48,
   "metadata": {},
   "outputs": [],
   "source": [
    "# 딥러닝 구조를 결정합니다(모델을 설정하고 실행하는 부분입니다).\n",
    "model = Sequential()\n",
    "model.add(Dense(128, input_dim=17, activation='relu'))\n",
    "model.add(Dropout(0.2))\n",
    "model.add(Dense(128,activation='relu'))\n",
    "model.add(Dropout(0.2))\n",
    "model.add(Dense(2, activation='softmax'))\n"
   ]
  },
  {
   "cell_type": "code",
   "execution_count": 38,
   "metadata": {
    "scrolled": true
   },
   "outputs": [],
   "source": [
    "# 딥러닝을 실행합니다.\n",
    "model.compile(loss='categorical_crossentropy', optimizer='adam', metrics=['accuracy'])\n",
    "\n"
   ]
  },
  {
   "cell_type": "code",
   "execution_count": 39,
   "metadata": {},
   "outputs": [
    {
     "name": "stdout",
     "output_type": "stream",
     "text": [
      "Epoch 1/30\n",
      "470/470 [==============================] - 1s 1ms/step - loss: 2.5245 - acc: 0.8404\n",
      "Epoch 2/30\n",
      "470/470 [==============================] - 0s 245us/step - loss: 2.4005 - acc: 0.8511\n",
      "Epoch 3/30\n",
      "470/470 [==============================] - 0s 235us/step - loss: 2.4006 - acc: 0.8511\n",
      "Epoch 4/30\n",
      "470/470 [==============================] - 0s 303us/step - loss: 2.4006 - acc: 0.8511\n",
      "Epoch 5/30\n",
      "470/470 [==============================] - 0s 310us/step - loss: 2.4006 - acc: 0.8511\n",
      "Epoch 6/30\n",
      "470/470 [==============================] - 0s 313us/step - loss: 2.4006 - acc: 0.8511\n",
      "Epoch 7/30\n",
      "470/470 [==============================] - 0s 326us/step - loss: 2.4006 - acc: 0.8511\n",
      "Epoch 8/30\n",
      "470/470 [==============================] - 0s 271us/step - loss: 2.4006 - acc: 0.8511\n",
      "Epoch 9/30\n",
      "470/470 [==============================] - 0s 273us/step - loss: 2.4006 - acc: 0.8511\n",
      "Epoch 10/30\n",
      "470/470 [==============================] - 0s 303us/step - loss: 2.4006 - acc: 0.8511\n",
      "Epoch 11/30\n",
      "470/470 [==============================] - 0s 308us/step - loss: 2.4006 - acc: 0.8511\n",
      "Epoch 12/30\n",
      "470/470 [==============================] - 0s 318us/step - loss: 2.4006 - acc: 0.8511\n",
      "Epoch 13/30\n",
      "470/470 [==============================] - 0s 301us/step - loss: 2.4006 - acc: 0.8511\n",
      "Epoch 14/30\n",
      "470/470 [==============================] - 0s 299us/step - loss: 2.4006 - acc: 0.8511\n",
      "Epoch 15/30\n",
      "470/470 [==============================] - 0s 312us/step - loss: 2.4006 - acc: 0.8511\n",
      "Epoch 16/30\n",
      "470/470 [==============================] - 0s 328us/step - loss: 2.4469 - acc: 0.8383\n",
      "Epoch 17/30\n",
      "470/470 [==============================] - 0s 279us/step - loss: 2.1365 - acc: 0.8383\n",
      "Epoch 18/30\n",
      "470/470 [==============================] - 0s 307us/step - loss: 2.2307 - acc: 0.8489\n",
      "Epoch 19/30\n",
      "470/470 [==============================] - 0s 314us/step - loss: 2.2830 - acc: 0.8298\n",
      "Epoch 20/30\n",
      "470/470 [==============================] - 0s 314us/step - loss: 2.1807 - acc: 0.8553\n",
      "Epoch 21/30\n",
      "470/470 [==============================] - 0s 314us/step - loss: 2.2287 - acc: 0.8213\n",
      "Epoch 22/30\n",
      "470/470 [==============================] - 0s 252us/step - loss: 1.8793 - acc: 0.8128\n",
      "Epoch 23/30\n",
      "470/470 [==============================] - 0s 252us/step - loss: 1.8743 - acc: 0.8234\n",
      "Epoch 24/30\n",
      "470/470 [==============================] - 0s 243us/step - loss: 1.4847 - acc: 0.8000\n",
      "Epoch 25/30\n",
      "470/470 [==============================] - 0s 303us/step - loss: 0.7950 - acc: 0.7766\n",
      "Epoch 26/30\n",
      "470/470 [==============================] - 0s 312us/step - loss: 0.5012 - acc: 0.8362\n",
      "Epoch 27/30\n",
      "470/470 [==============================] - 0s 248us/step - loss: 0.4717 - acc: 0.8489\n",
      "Epoch 28/30\n",
      "470/470 [==============================] - 0s 279us/step - loss: 0.4515 - acc: 0.8489\n",
      "Epoch 29/30\n",
      "470/470 [==============================] - 0s 314us/step - loss: 0.4595 - acc: 0.8489\n",
      "Epoch 30/30\n",
      "470/470 [==============================] - 0s 282us/step - loss: 0.4646 - acc: 0.8447\n"
     ]
    },
    {
     "data": {
      "text/plain": [
       "<keras.callbacks.History at 0x20ec35d8b00>"
      ]
     },
     "execution_count": 39,
     "metadata": {},
     "output_type": "execute_result"
    }
   ],
   "source": [
    "# 모델을 정의하고 컴파일 후 실행시키는 차례\n",
    "model.fit(X, Y, epochs=30, batch_size=10)"
   ]
  },
  {
   "cell_type": "code",
   "execution_count": 20,
   "metadata": {},
   "outputs": [
    {
     "name": "stdout",
     "output_type": "stream",
     "text": [
      "470/470 [==============================] - 0s 51us/step\n",
      "\n",
      " Accuracy: 0.8511\n"
     ]
    }
   ],
   "source": [
    "# 결과를 출력합니다.\n",
    "print(\"\\n Accuracy: %.4f\" % (model.evaluate(X, Y)[1]))"
   ]
  },
  {
   "cell_type": "code",
   "execution_count": null,
   "metadata": {
    "collapsed": true
   },
   "outputs": [],
   "source": []
  },
  {
   "cell_type": "code",
   "execution_count": null,
   "metadata": {
    "collapsed": true
   },
   "outputs": [],
   "source": []
  }
 ],
 "metadata": {
  "anaconda-cloud": {},
  "kernelspec": {
   "display_name": "Python 3",
   "language": "python",
   "name": "python3"
  },
  "language_info": {
   "codemirror_mode": {
    "name": "ipython",
    "version": 3
   },
   "file_extension": ".py",
   "mimetype": "text/x-python",
   "name": "python",
   "nbconvert_exporter": "python",
   "pygments_lexer": "ipython3",
   "version": "3.6.4"
  }
 },
 "nbformat": 4,
 "nbformat_minor": 1
}
